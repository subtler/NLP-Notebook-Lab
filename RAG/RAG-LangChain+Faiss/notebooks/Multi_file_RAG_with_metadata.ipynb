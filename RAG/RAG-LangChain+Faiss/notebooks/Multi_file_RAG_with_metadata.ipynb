{
 "cells": [
  {
   "cell_type": "markdown",
   "id": "d6ce97a5-030c-408d-b041-c7cad22a18e1",
   "metadata": {},
   "source": [
    "## Step 1: Organize Your Files"
   ]
  },
  {
   "cell_type": "markdown",
   "id": "6b365f1d-75b8-4f8b-94e8-181e8c7de8e0",
   "metadata": {},
   "source": [
    "Synthetic data creation or add documents into the data folder"
   ]
  },
  {
   "cell_type": "markdown",
   "id": "92a4a89b-ed6a-416a-ba20-e36ec3a05f09",
   "metadata": {},
   "source": [
    "## Step 2: Load All Files with Auto Metadata"
   ]
  },
  {
   "cell_type": "code",
   "execution_count": 2,
   "id": "d7e5d750-3f52-4a9e-b7b0-ff82b4d7d5f3",
   "metadata": {},
   "outputs": [
    {
     "name": "stderr",
     "output_type": "stream",
     "text": [
      "100%|█████████████████████████████████████████████████████| 3/3 [00:00<00:00, 1890.18it/s]\n"
     ]
    }
   ],
   "source": [
    "from langchain_community.document_loaders import DirectoryLoader, TextLoader\n",
    "from langchain.text_splitter import RecursiveCharacterTextSplitter\n",
    "\n",
    "# Load .txt files from /data\n",
    "loader = DirectoryLoader(\n",
    "    \"../data\", \n",
    "    glob=\"**/*.txt\", \n",
    "    loader_cls=TextLoader,\n",
    "    show_progress=True\n",
    ")\n",
    "\n",
    "documents = loader.load()\n",
    "\n",
    "# Add file name as metadata[\"source\"]\n",
    "for doc in documents:\n",
    "    doc.metadata[\"category\"] = doc.metadata[\"source\"].split(\"/\")[-1].replace(\".txt\", \"\")"
   ]
  },
  {
   "cell_type": "markdown",
   "id": "2cf5cfcc-71ed-4b37-973d-3ed64cb86516",
   "metadata": {},
   "source": [
    "## Step 3: Chunk and Embed with Metadata"
   ]
  },
  {
   "cell_type": "code",
   "execution_count": 3,
   "id": "9db930e7-eab8-46f5-bb80-27fc0d24697c",
   "metadata": {},
   "outputs": [],
   "source": [
    "text_splitter = RecursiveCharacterTextSplitter(chunk_size=300, chunk_overlap=50)\n",
    "docs = text_splitter.split_documents(documents)\n",
    "\n",
    "from langchain_huggingface import HuggingFaceEmbeddings\n",
    "from langchain_community.vectorstores import FAISS\n",
    "\n",
    "embedding_model = HuggingFaceEmbeddings(model_name=\"all-MiniLM-L6-v2\")\n",
    "vectorstore = FAISS.from_documents(docs, embedding_model)\n",
    "\n",
    "# ✅ Save to disk\n",
    "vectorstore.save_local(\"../data/vectorstores/support_index\")"
   ]
  },
  {
   "cell_type": "markdown",
   "id": "01739df0-baf3-46aa-a7b2-ee3e148014e6",
   "metadata": {},
   "source": [
    "## Step 4: Create Retriever + LLM"
   ]
  },
  {
   "cell_type": "code",
   "execution_count": 4,
   "id": "c56c7a5e-837c-47ec-9fde-bcecb10f7ce1",
   "metadata": {},
   "outputs": [
    {
     "name": "stderr",
     "output_type": "stream",
     "text": [
      "Device set to use mps:0\n"
     ]
    }
   ],
   "source": [
    "retriever = vectorstore.as_retriever()\n",
    "\n",
    "from transformers import AutoTokenizer, AutoModelForSeq2SeqLM, pipeline\n",
    "from langchain_huggingface import HuggingFacePipeline\n",
    "from langchain.chains import RetrievalQA\n",
    "\n",
    "# HuggingFace model setup\n",
    "model_name = \"google/flan-t5-base\"\n",
    "tokenizer = AutoTokenizer.from_pretrained(model_name)\n",
    "model = AutoModelForSeq2SeqLM.from_pretrained(model_name)\n",
    "pipe = pipeline(\"text2text-generation\", model=model, tokenizer=tokenizer, max_length=100)\n",
    "llm = HuggingFacePipeline(pipeline=pipe)\n",
    "\n",
    "qa_chain = RetrievalQA.from_chain_type(llm=llm, retriever=retriever, return_source_documents=True)"
   ]
  },
  {
   "cell_type": "markdown",
   "id": "30899c12-949a-4556-aaab-939fb6fcd29a",
   "metadata": {},
   "source": [
    "## Step 5: Query and Show Answer + Source"
   ]
  },
  {
   "cell_type": "code",
   "execution_count": 5,
   "id": "782d694b-9b32-4510-9015-7ad2b2e0c105",
   "metadata": {},
   "outputs": [
    {
     "name": "stdout",
     "output_type": "stream",
     "text": [
      "📘 Answer: reactivate\n",
      "\n",
      "📂 Sources:\n",
      "• account\n",
      "• support\n",
      "• support\n",
      "• support\n"
     ]
    }
   ],
   "source": [
    "query = \"I have been inactive for a while, what to do now\" #Change your query here\n",
    "result = qa_chain.invoke({\"query\": query})\n",
    "\n",
    "print(\"📘 Answer:\", result['result'])\n",
    "print(\"\\n📂 Sources:\")\n",
    "for doc in result['source_documents']:\n",
    "    print(f\"• {doc.metadata['category']}\")"
   ]
  },
  {
   "cell_type": "markdown",
   "id": "878427c3-da28-434c-9230-4b5cae565554",
   "metadata": {},
   "source": [
    "🧠 What You Now Have:\n",
    "\t•\tAuto-detected metadata per file\n",
    "\t•\tCleanly chunked, embedded, and stored\n",
    "\t•\tAnswers returned with exact file/source context\n"
   ]
  },
  {
   "cell_type": "code",
   "execution_count": null,
   "id": "8a272df6-a77e-448a-a920-8706dceb4d94",
   "metadata": {},
   "outputs": [],
   "source": []
  }
 ],
 "metadata": {
  "kernelspec": {
   "display_name": "Python (ai_env)",
   "language": "python",
   "name": "ai_env"
  },
  "language_info": {
   "codemirror_mode": {
    "name": "ipython",
    "version": 3
   },
   "file_extension": ".py",
   "mimetype": "text/x-python",
   "name": "python",
   "nbconvert_exporter": "python",
   "pygments_lexer": "ipython3",
   "version": "3.11.11"
  }
 },
 "nbformat": 4,
 "nbformat_minor": 5
}
