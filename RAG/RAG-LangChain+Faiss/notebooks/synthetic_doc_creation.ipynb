{
 "cells": [
  {
   "cell_type": "markdown",
   "id": "1b183980-5e57-4f6d-8fbc-0d47b8575f53",
   "metadata": {},
   "source": [
    "## billing.txt — Simulated Refund & Billing Policy"
   ]
  },
  {
   "cell_type": "code",
   "execution_count": 5,
   "id": "b98729d4-0760-4ab1-babe-179c6703f3fe",
   "metadata": {},
   "outputs": [],
   "source": [
    "billing_text = \"\"\"\n",
    "Billing and Refund Policy\n",
    "-------------------------\n",
    "\n",
    "This document outlines the billing procedures, accepted payment methods, refund eligibility, and dispute resolution processes for all transactions.\n",
    "\n",
    "Accepted Payment Methods:\n",
    "- Credit and debit cards (Visa, Mastercard, American Express)\n",
    "- UPI and Net Banking (India)\n",
    "- PayPal and Stripe for international users\n",
    "\n",
    "Billing Cycle:\n",
    "- Monthly subscriptions are billed every 30 days from the date of initial payment.\n",
    "- Yearly plans are billed once annually and are eligible for prorated refunds under specific conditions.\n",
    "\n",
    "Refund Eligibility:\n",
    "- Refund requests must be made within 7 days of the original transaction.\n",
    "- Only unused services or partially used services are eligible for partial refunds.\n",
    "- We do not refund domain registrations, SSL certificates, or other third-party services.\n",
    "\n",
    "Refund Process:\n",
    "- Once a refund is approved, it will be initiated to the original payment method within 3 business days.\n",
    "- The credit may take 5–7 business days to reflect in your account, depending on your bank.\n",
    "\n",
    "Dispute Resolution:\n",
    "- In case of a billing error, contact billing@company.com within 15 days.\n",
    "- Provide your invoice ID and transaction details for faster resolution.\n",
    "- Disputes raised through payment providers without prior internal escalation may be denied refund eligibility.\n",
    "\n",
    "Taxation:\n",
    "- All transactions are inclusive of applicable local, state, and federal taxes.\n",
    "- GST invoices are auto-generated and available in the account billing section.\n",
    "\n",
    "Support:\n",
    "- For billing-related queries, contact billing-support@company.com\n",
    "- Business hours: Monday to Friday, 9 AM to 6 PM IST\n",
    "\n",
    "FAQs:\n",
    "Q1. How long does a refund take?\n",
    "A1. Approved refunds are typically processed within 5–7 business days.\n",
    "\n",
    "Q2. What if my card was charged twice?\n",
    "A2. Submit a dispute form through the support portal with transaction IDs.\n",
    "\"\"\""
   ]
  },
  {
   "cell_type": "markdown",
   "id": "6b52542b-53c3-4d3c-85c9-210d6c6cb092",
   "metadata": {},
   "source": [
    "## account.txt — Simulated Account & Profile Policy"
   ]
  },
  {
   "cell_type": "code",
   "execution_count": 6,
   "id": "d4eb4d22-50e3-4f6d-8490-8118d33b45f5",
   "metadata": {},
   "outputs": [],
   "source": [
    "account_text = \"\"\"\n",
    "Account Management Guidelines\n",
    "-----------------------------\n",
    "\n",
    "These terms describe our policies regarding account creation, management, security, and termination.\n",
    "\n",
    "Account Creation:\n",
    "- Users must provide a valid email address and mobile number during registration.\n",
    "- Duplicate accounts using the same phone number or email are not allowed.\n",
    "\n",
    "Security Practices:\n",
    "- All passwords must contain a minimum of 8 characters, with at least one uppercase letter and one symbol.\n",
    "- Two-factor authentication (2FA) is strongly recommended and can be enabled via OTP or authenticator apps.\n",
    "- Login attempts from unknown devices will trigger a security alert.\n",
    "\n",
    "Profile Updates:\n",
    "- Profile changes (email, phone, address) require confirmation through a verification link or OTP.\n",
    "- Users can upload a profile photo up to 2MB in JPG or PNG format.\n",
    "\n",
    "Account Deactivation:\n",
    "- Inactive accounts (12+ months) will be temporarily deactivated after a warning email is sent.\n",
    "- Users can reactivate by logging in and confirming identity.\n",
    "\n",
    "Account Termination:\n",
    "- Users may request deletion of their account through privacy settings.\n",
    "- All data will be deleted within 30 days of the request.\n",
    "\n",
    "Support & Recovery:\n",
    "- Forgot your password? Use the \"Forgot Password\" link to reset it via OTP/email.\n",
    "- For account recovery assistance, email account-support@company.com with your registered details.\n",
    "\n",
    "FAQs:\n",
    "Q1. What happens to my data if I delete my account?\n",
    "A1. All personal data is permanently deleted within 30 days as per our privacy policy.\n",
    "\n",
    "Q2. Can I change my email ID?\n",
    "A2. Yes, visit account settings → Email section → Edit, and follow verification steps.\n",
    "\"\"\""
   ]
  },
  {
   "cell_type": "markdown",
   "id": "9b9909e7-0bee-41a8-b4f7-bea27457851f",
   "metadata": {},
   "source": [
    "## support.txt — Simulated Tech + Customer Support Knowledge"
   ]
  },
  {
   "cell_type": "code",
   "execution_count": 7,
   "id": "c3e5231c-7a1a-46ae-aedb-2a137808c387",
   "metadata": {},
   "outputs": [],
   "source": [
    "support_text = \"\"\"\n",
    "Customer Support Handbook\n",
    "--------------------------\n",
    "\n",
    "Our support team ensures timely resolution of user issues ranging from login troubles to technical platform bugs.\n",
    "\n",
    "Contact Channels:\n",
    "- Live Chat (9 AM–9 PM IST, Monday to Saturday)\n",
    "- Email support: support@company.com (24/7)\n",
    "- Escalation desk: escalate@company.com\n",
    "\n",
    "Ticket System:\n",
    "- Every support request is issued a unique ticket ID for tracking.\n",
    "- Priority is assigned based on issue category:\n",
    "  - P1: Payment failures, data loss\n",
    "  - P2: Login/access issues\n",
    "  - P3: UI glitches, minor bugs\n",
    "\n",
    "Response Time Commitments:\n",
    "- Premium users: initial response in 4 hours\n",
    "- Free users: response in 24–48 hours\n",
    "\n",
    "Bug Reporting:\n",
    "- Include browser, OS, steps to reproduce, and screenshots (if any).\n",
    "- Known issues are tracked on our status page at status.company.com\n",
    "\n",
    "Self-Help & Troubleshooting:\n",
    "- Clear cache and cookies\n",
    "- Use incognito mode for login issues\n",
    "- Update to latest app version\n",
    "- Use our troubleshooting wizard for guided help\n",
    "\n",
    "FAQs:\n",
    "Q1. How do I reach support outside working hours?\n",
    "A1. Send an email to support@company.com — auto-replies will confirm receipt.\n",
    "\n",
    "Q2. Can I talk to a real agent?\n",
    "A2. Yes, select \"Talk to Agent\" in the chatbot for human assistance.\n",
    "\n",
    "Q3. How do I check my ticket status?\n",
    "A3. Login → Support → My Tickets → View ticket status and history.\n",
    "\"\"\""
   ]
  },
  {
   "cell_type": "markdown",
   "id": "8f78c06d-e3b3-4f8c-aec5-9923a279536f",
   "metadata": {},
   "source": [
    "# Step 2: Write files to data"
   ]
  },
  {
   "cell_type": "code",
   "execution_count": 8,
   "id": "e34ab119-ab5d-418a-8a9d-4c852dd62b60",
   "metadata": {},
   "outputs": [],
   "source": [
    "with open(\"../data/billing.txt\", \"w\") as f:\n",
    "    f.write(billing_text.strip())\n",
    "\n",
    "with open(\"../data/account.txt\", \"w\") as f:\n",
    "    f.write(account_text.strip())\n",
    "\n",
    "with open(\"../data/support.txt\", \"w\") as f:\n",
    "    f.write(support_text.strip())"
   ]
  },
  {
   "cell_type": "code",
   "execution_count": null,
   "id": "82371d7a-1353-40e5-a001-3fb12f5d2247",
   "metadata": {},
   "outputs": [],
   "source": []
  },
  {
   "cell_type": "code",
   "execution_count": null,
   "id": "06db80c2-6fc1-4418-89a1-1af049834a0e",
   "metadata": {},
   "outputs": [],
   "source": []
  }
 ],
 "metadata": {
  "kernelspec": {
   "display_name": "Python (ai_env)",
   "language": "python",
   "name": "ai_env"
  },
  "language_info": {
   "codemirror_mode": {
    "name": "ipython",
    "version": 3
   },
   "file_extension": ".py",
   "mimetype": "text/x-python",
   "name": "python",
   "nbconvert_exporter": "python",
   "pygments_lexer": "ipython3",
   "version": "3.11.11"
  }
 },
 "nbformat": 4,
 "nbformat_minor": 5
}
