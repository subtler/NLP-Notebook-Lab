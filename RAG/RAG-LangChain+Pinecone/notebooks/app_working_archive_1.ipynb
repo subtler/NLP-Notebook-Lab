{
 "cells": [
  {
   "cell_type": "markdown",
   "id": "ec0b3c46-7530-4c2e-8fc7-1239886684c8",
   "metadata": {},
   "source": [
    "# basic version:"
   ]
  },
  {
   "cell_type": "code",
   "execution_count": null,
   "id": "eda6e1f8-902f-4999-b96c-4a9ed45e8062",
   "metadata": {},
   "outputs": [],
   "source": [
    "import os\n",
    "os.environ[\"PINECONE_API_KEY\"] = \"Your-pinecone-api-key\"\n",
    "import streamlit as st\n",
    "from langchain.chains import RetrievalQA\n",
    "from langchain_huggingface import HuggingFacePipeline\n",
    "from transformers import AutoTokenizer, AutoModelForSeq2SeqLM, pipeline\n",
    "from langchain_pinecone import PineconeVectorStore\n",
    "from langchain_huggingface import HuggingFaceEmbeddings\n",
    "from pinecone import Pinecone\n",
    "\n",
    "# Load your Pinecone vector store\n",
    "pc = Pinecone()  # will auto-read from environment variable\n",
    "index_name = \"rag-index\"\n",
    "embedding_model = HuggingFaceEmbeddings(model_name=\"all-MiniLM-L6-v2\")\n",
    "vectorstore = PineconeVectorStore(index_name=index_name, embedding=embedding_model)\n",
    "\n",
    "# Load HF LLM\n",
    "model_name = \"google/flan-t5-base\"\n",
    "tokenizer = AutoTokenizer.from_pretrained(model_name)\n",
    "model = AutoModelForSeq2SeqLM.from_pretrained(model_name)\n",
    "pipe = pipeline(\"text2text-generation\", model=model, tokenizer=tokenizer, max_length=256)\n",
    "llm = HuggingFacePipeline(pipeline=pipe)\n",
    "\n",
    "# Create retriever + QA chain\n",
    "retriever = vectorstore.as_retriever()\n",
    "qa_chain = RetrievalQA.from_chain_type(llm=llm, retriever=retriever, return_source_documents=True)\n",
    "\n",
    "# 🖥️ Streamlit UI\n",
    "st.title(\"📚 RAG Assistant with Pinecone + HuggingFace\")\n",
    "\n",
    "query = st.text_input(\"Ask me a question from your documents:\")\n",
    "\n",
    "if query:\n",
    "    response = qa_chain.invoke({\"query\": query})\n",
    "    st.markdown(f\"### 🤖 Answer:\\n{response['result']}\")\n",
    "\n",
    "    st.markdown(\"### 📂 Sources:\")\n",
    "    for doc in response[\"source_documents\"]:\n",
    "        st.write(f\"• `{doc.metadata.get('category', 'unknown')}`\")"
   ]
  }
 ],
 "metadata": {
  "kernelspec": {
   "display_name": "Python 3 (ipykernel)",
   "language": "python",
   "name": "python3"
  },
  "language_info": {
   "codemirror_mode": {
    "name": "ipython",
    "version": 3
   },
   "file_extension": ".py",
   "mimetype": "text/x-python",
   "name": "python",
   "nbconvert_exporter": "python",
   "pygments_lexer": "ipython3",
   "version": "3.11.11"
  }
 },
 "nbformat": 4,
 "nbformat_minor": 5
}
