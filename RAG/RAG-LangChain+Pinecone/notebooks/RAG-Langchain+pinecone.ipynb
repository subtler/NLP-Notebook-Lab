{
 "cells": [
  {
   "cell_type": "code",
   "execution_count": null,
   "id": "144a8839-cf72-428e-844e-26ef19734b24",
   "metadata": {},
   "outputs": [],
   "source": [
    "import os\n",
    "os.environ[\"PINECONE_API_KEY\"] = \"your_pinecone_api_key\""
   ]
  },
  {
   "cell_type": "code",
   "execution_count": 5,
   "id": "d5df32f1-6cde-4b51-b6b5-a000bb89fe5c",
   "metadata": {},
   "outputs": [],
   "source": [
    "from langchain_community.document_loaders import DirectoryLoader, TextLoader\n",
    "from langchain.text_splitter import RecursiveCharacterTextSplitter\n",
    "\n",
    "# Load all files again\n",
    "loader = DirectoryLoader(\n",
    "    \"../data\", \n",
    "    glob=\"**/*.txt\", \n",
    "    loader_cls=TextLoader\n",
    ")\n",
    "documents = loader.load()\n",
    "\n",
    "# Assign metadata like file name → category\n",
    "for doc in documents:\n",
    "    filename = doc.metadata[\"source\"].split(\"/\")[-1]\n",
    "    doc.metadata[\"category\"] = filename.replace(\".txt\", \"\")\n",
    "\n",
    "# Split into chunks\n",
    "splitter = RecursiveCharacterTextSplitter(chunk_size=300, chunk_overlap=50)\n",
    "docs = splitter.split_documents(documents)  # 👈 This is the \"docs\" we use"
   ]
  },
  {
   "cell_type": "markdown",
   "id": "010de30a-79d7-46ea-ae49-fb682678821a",
   "metadata": {},
   "source": [
    "## Step 1: Set Up Pinecone API Key + Index"
   ]
  },
  {
   "cell_type": "code",
   "execution_count": 6,
   "id": "e9121504-8767-43c1-b54d-ec31cac4b019",
   "metadata": {},
   "outputs": [],
   "source": [
    "from pinecone import Pinecone, ServerlessSpec\n",
    "\n",
    "# Initialize Pinecone client\n",
    "pc = Pinecone()  # ← picks up from env\n",
    "# Create an index if it doesn’t exist already\n",
    "index_name = \"rag-index\"\n",
    "\n",
    "if index_name not in pc.list_indexes().names():\n",
    "    pc.create_index(\n",
    "        name=index_name,\n",
    "        dimension=384,  # for all-MiniLM-L6-v2\n",
    "        metric=\"cosine\",\n",
    "        spec=ServerlessSpec(cloud=\"aws\", region=\"us-east-1\")\n",
    "    )"
   ]
  },
  {
   "cell_type": "markdown",
   "id": "54ca57a2-7308-4075-badc-9818ae9dc065",
   "metadata": {},
   "source": [
    "## Step 2: Store Documents in Pinecone via LangChain"
   ]
  },
  {
   "cell_type": "code",
   "execution_count": 7,
   "id": "c603b7a9-6eab-495a-9512-5701a0bb072f",
   "metadata": {},
   "outputs": [],
   "source": [
    "from langchain_pinecone import PineconeVectorStore\n",
    "from langchain_huggingface import HuggingFaceEmbeddings\n",
    "\n",
    "# Load embedding model\n",
    "embedding_model = HuggingFaceEmbeddings(model_name=\"all-MiniLM-L6-v2\")\n",
    "\n",
    "# Store into Pinecone\n",
    "vectorstore = PineconeVectorStore.from_documents(\n",
    "    documents=docs,  # your previously chunked documents\n",
    "    embedding=embedding_model,\n",
    "    index_name=index_name\n",
    ")"
   ]
  },
  {
   "cell_type": "markdown",
   "id": "d881bd55-e18d-474f-ad3f-14786067313e",
   "metadata": {},
   "source": [
    "## Step 3 — Load HuggingFace LLM Locally (No API key needed)"
   ]
  },
  {
   "cell_type": "code",
   "execution_count": 9,
   "id": "f8738860-21d7-4c9f-90fe-ccbaa1483168",
   "metadata": {},
   "outputs": [
    {
     "name": "stderr",
     "output_type": "stream",
     "text": [
      "Device set to use mps:0\n"
     ]
    }
   ],
   "source": [
    "from transformers import AutoTokenizer, AutoModelForSeq2SeqLM, pipeline\n",
    "from langchain_huggingface import HuggingFacePipeline\n",
    "\n",
    "# Choose your model (you can upgrade to flan-t5-large later)\n",
    "model_name = \"google/flan-t5-base\"\n",
    "\n",
    "# Load tokenizer and model from HuggingFace Hub (no token needed)\n",
    "tokenizer = AutoTokenizer.from_pretrained(model_name)\n",
    "model = AutoModelForSeq2SeqLM.from_pretrained(model_name)\n",
    "\n",
    "# Create a text2text generation pipeline\n",
    "pipe = pipeline(\n",
    "    \"text2text-generation\",\n",
    "    model=model,\n",
    "    tokenizer=tokenizer,\n",
    "    max_length=256,\n",
    "    temperature=0.7,\n",
    "    top_p=0.9,\n",
    "    do_sample=True  # helps avoid repetition\n",
    ")"
   ]
  },
  {
   "cell_type": "markdown",
   "id": "39a0213d-d852-408a-bf2b-6d0eebee2ae1",
   "metadata": {},
   "source": [
    "## Step 4: Create Retriever + QA Chain"
   ]
  },
  {
   "cell_type": "code",
   "execution_count": 10,
   "id": "eb6526dd-dba1-4cbe-807d-ce45ca245c9e",
   "metadata": {},
   "outputs": [],
   "source": [
    "from langchain.chains import RetrievalQA\n",
    "\n",
    "# Wrap pipeline in LangChain-compatible HuggingFacePipeline\n",
    "llm = HuggingFacePipeline(pipeline=pipe)\n",
    "\n",
    "# Build retrieval QA chain\n",
    "retriever = vectorstore.as_retriever()\n",
    "\n",
    "qa_chain = RetrievalQA.from_chain_type(\n",
    "    llm=llm,\n",
    "    retriever=retriever,\n",
    "    return_source_documents=True,\n",
    "    chain_type=\"stuff\"\n",
    ")"
   ]
  },
  {
   "cell_type": "markdown",
   "id": "d908a28e-1b15-4507-b8bd-67209ee7ccea",
   "metadata": {},
   "source": [
    "## Step 5: Ask a Query"
   ]
  },
  {
   "cell_type": "code",
   "execution_count": 11,
   "id": "3ded048e-2489-410f-9c35-a3bba8828018",
   "metadata": {},
   "outputs": [
    {
     "name": "stdout",
     "output_type": "stream",
     "text": [
      "📘 Answer: 3 business days\n",
      "\n",
      "📂 Sources:\n",
      "• billing\n",
      "• billing\n",
      "• billing\n",
      "• billing\n"
     ]
    }
   ],
   "source": [
    "query = \"How long does a refund take?\"\n",
    "response = qa_chain.invoke({\"query\": query})\n",
    "\n",
    "print(\"📘 Answer:\", response['result'])\n",
    "print(\"\\n📂 Sources:\")\n",
    "for doc in response['source_documents']:\n",
    "    print(f\"• {doc.metadata.get('category')}\")"
   ]
  },
  {
   "cell_type": "code",
   "execution_count": null,
   "id": "54de2dfe-124d-4326-a703-faec48e41064",
   "metadata": {},
   "outputs": [],
   "source": []
  }
 ],
 "metadata": {
  "kernelspec": {
   "display_name": "ai_env",
   "language": "python",
   "name": "python3"
  },
  "language_info": {
   "codemirror_mode": {
    "name": "ipython",
    "version": 3
   },
   "file_extension": ".py",
   "mimetype": "text/x-python",
   "name": "python",
   "nbconvert_exporter": "python",
   "pygments_lexer": "ipython3",
   "version": "3.11.11"
  }
 },
 "nbformat": 4,
 "nbformat_minor": 5
}
