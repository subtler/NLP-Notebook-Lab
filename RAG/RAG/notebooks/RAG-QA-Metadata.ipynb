{
 "cells": [
  {
   "cell_type": "markdown",
   "id": "5cb58626-b60c-4f51-ab96-291e871661fa",
   "metadata": {},
   "source": [
    "## Step 1: Import & Load Documents with Metadata"
   ]
  },
  {
   "cell_type": "code",
   "execution_count": 7,
   "id": "84f945a0-af68-452d-9c17-91892820b773",
   "metadata": {},
   "outputs": [],
   "source": [
    "from langchain_core.documents import Document\n",
    "\n",
    "# Manually define docs with metadata\n",
    "docs = [\n",
    "    Document(\n",
    "        page_content=\"You can reset your password from the account settings page.\",\n",
    "        metadata={\"category\": \"account\", \"source\": \"faq.txt\"}\n",
    "    ),\n",
    "    Document(\n",
    "        page_content=\"Refunds are processed within 5–7 business days after request.\",\n",
    "        metadata={\"category\": \"billing\", \"source\": \"faq.txt\"}\n",
    "    ),\n",
    "    Document(\n",
    "        page_content=\"To reach support, please visit the Help Center page.\",\n",
    "        metadata={\"category\": \"support\", \"source\": \"faq.txt\"}\n",
    "    )\n",
    "]"
   ]
  },
  {
   "cell_type": "markdown",
   "id": "234110b2-e778-43e9-be60-df8509165cf4",
   "metadata": {},
   "source": [
    "## Step 2: Embed with HuggingFace + Store in FAISS"
   ]
  },
  {
   "cell_type": "code",
   "execution_count": 8,
   "id": "01ee1b27-5a2a-4dcb-87a5-8563e2dc79b6",
   "metadata": {},
   "outputs": [],
   "source": [
    "from langchain_huggingface import HuggingFaceEmbeddings\n",
    "from langchain_community.vectorstores import FAISS\n",
    "\n",
    "embedding_model = HuggingFaceEmbeddings(model_name=\"all-MiniLM-L6-v2\")\n",
    "\n",
    "vectorstore = FAISS.from_documents(docs, embedding_model)"
   ]
  },
  {
   "cell_type": "markdown",
   "id": "4857974e-f632-4497-8e01-1a558c730f53",
   "metadata": {},
   "source": [
    "## Step 3: Filtered Retrieval by Metadata"
   ]
  },
  {
   "cell_type": "code",
   "execution_count": 9,
   "id": "54918fe4-40e4-4e0c-8c90-d59e3f792df8",
   "metadata": {},
   "outputs": [],
   "source": [
    "retriever = vectorstore.as_retriever(\n",
    "    search_kwargs={\n",
    "        \"k\": 3,\n",
    "        \"filter\": {\"category\": \"billing\"}  # Change category to test\n",
    "    }\n",
    ")"
   ]
  },
  {
   "cell_type": "markdown",
   "id": "64815820-562a-4065-abfb-acaeb0cc7751",
   "metadata": {},
   "source": [
    "## Step 4: Load HuggingFace LLM and Create QA Chain"
   ]
  },
  {
   "cell_type": "code",
   "execution_count": 10,
   "id": "c2e37ee4-6d58-4495-b54c-c55df149969a",
   "metadata": {},
   "outputs": [
    {
     "name": "stderr",
     "output_type": "stream",
     "text": [
      "Device set to use mps:0\n"
     ]
    }
   ],
   "source": [
    "from transformers import AutoTokenizer, AutoModelForSeq2SeqLM, pipeline\n",
    "from langchain_huggingface import HuggingFacePipeline\n",
    "from langchain.chains import RetrievalQA\n",
    "\n",
    "model_name = \"google/flan-t5-base\"\n",
    "tokenizer = AutoTokenizer.from_pretrained(model_name)\n",
    "model = AutoModelForSeq2SeqLM.from_pretrained(model_name)\n",
    "\n",
    "pipe = pipeline(\"text2text-generation\", model=model, tokenizer=tokenizer, max_length=100)\n",
    "llm = HuggingFacePipeline(pipeline=pipe)\n",
    "\n",
    "qa_chain = RetrievalQA.from_chain_type(llm=llm, retriever=retriever, chain_type=\"stuff\")"
   ]
  },
  {
   "cell_type": "markdown",
   "id": "e292a9a3-657e-4d9a-853c-e7fd7c544609",
   "metadata": {},
   "source": [
    "## Step 5: Ask a Filtered Question"
   ]
  },
  {
   "cell_type": "code",
   "execution_count": 11,
   "id": "d2fa6e87-702e-45ab-8107-a95cbab54b96",
   "metadata": {},
   "outputs": [
    {
     "name": "stdout",
     "output_type": "stream",
     "text": [
      "🔍 Question: How long does it take to get a refund?\n",
      "📘 Answer: 5–7 business days\n"
     ]
    }
   ],
   "source": [
    "query = \"How long does it take to get a refund?\"\n",
    "response = qa_chain.invoke({\"query\": query})\n",
    "\n",
    "print(\"🔍 Question:\", query)\n",
    "print(\"📘 Answer:\", response[\"result\"])"
   ]
  },
  {
   "cell_type": "code",
   "execution_count": null,
   "id": "47b665e4-905b-4de8-a1f8-8577dfdb9ff9",
   "metadata": {},
   "outputs": [],
   "source": []
  }
 ],
 "metadata": {
  "kernelspec": {
   "display_name": "ai_env",
   "language": "python",
   "name": "python3"
  },
  "language_info": {
   "codemirror_mode": {
    "name": "ipython",
    "version": 3
   },
   "file_extension": ".py",
   "mimetype": "text/x-python",
   "name": "python",
   "nbconvert_exporter": "python",
   "pygments_lexer": "ipython3",
   "version": "3.11.11"
  }
 },
 "nbformat": 4,
 "nbformat_minor": 5
}
