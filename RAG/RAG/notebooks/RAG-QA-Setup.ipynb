{
 "cells": [
  {
   "cell_type": "markdown",
   "id": "925d0eac-b724-4c7d-b9c3-473fb2a6d7f1",
   "metadata": {},
   "source": [
    "## Step 2.1: Load and Chunk Text Data"
   ]
  },
  {
   "cell_type": "code",
   "execution_count": 6,
   "id": "3d79bccd-929c-4051-8a5a-69e0c49e0be6",
   "metadata": {},
   "outputs": [],
   "source": [
    "from langchain_community.document_loaders import TextLoader\n",
    "from langchain.text_splitter import RecursiveCharacterTextSplitter\n",
    "\n",
    "# Simulate a text file (or use any local .txt file)\n",
    "with open(\"../data/data.txt\", \"w\") as f:\n",
    "    f.write(\"\"\"\n",
    "    Natural Language Processing (NLP) is a subfield of artificial intelligence concerned with the interaction between computers and human language. \n",
    "    It enables machines to understand, interpret, and generate text in a meaningful way. NLP powers applications like chatbots, sentiment analysis, \n",
    "    machine translation, and question answering systems.\n",
    "    \"\"\")\n",
    "\n",
    "# Load the document\n",
    "loader = TextLoader(\"../data/data.txt\")\n",
    "documents = loader.load()\n",
    "\n",
    "# Split into smaller chunks (RAG works better with chunks)\n",
    "text_splitter = RecursiveCharacterTextSplitter(chunk_size=300, chunk_overlap=50)\n",
    "docs = text_splitter.split_documents(documents)"
   ]
  },
  {
   "cell_type": "markdown",
   "id": "6969e3e7-b4d2-4f8d-8ca5-55b0ab753cb0",
   "metadata": {},
   "source": [
    "## Step 2.2: Embed Documents + Store in FAISS"
   ]
  },
  {
   "cell_type": "code",
   "execution_count": 7,
   "id": "e0638b5b-30ef-41ca-96c3-579df95d71af",
   "metadata": {},
   "outputs": [],
   "source": [
    "from langchain_community.vectorstores import FAISS\n",
    "from sentence_transformers import SentenceTransformer\n",
    "from langchain_huggingface import HuggingFaceEmbeddings\n",
    "\n",
    "# Load HF embedding model\n",
    "embedding_model = HuggingFaceEmbeddings(\n",
    "    model_name=\"all-MiniLM-L6-v2\"\n",
    ")\n",
    "\n",
    "# Create FAISS index\n",
    "vectorstore = FAISS.from_documents(docs, embedding_model)"
   ]
  },
  {
   "cell_type": "markdown",
   "id": "546bd386-a807-44d3-959a-a133dbff68c0",
   "metadata": {},
   "source": [
    "# Block 3 — Build RetrievalQA Chain (Latest Syntax)"
   ]
  },
  {
   "cell_type": "markdown",
   "id": "d0533bae-16d5-4746-845f-852ade65d6d3",
   "metadata": {},
   "source": [
    "## Step 3.1: Create a Retriever from FAISS"
   ]
  },
  {
   "cell_type": "code",
   "execution_count": 8,
   "id": "13f70e50-7029-424e-9b44-b1768454dec1",
   "metadata": {},
   "outputs": [],
   "source": [
    "retriever = vectorstore.as_retriever()"
   ]
  },
  {
   "cell_type": "markdown",
   "id": "ffe6cde7-186c-4f46-ab96-c46b230927e3",
   "metadata": {},
   "source": [
    "## Step 3.2: Load HuggingFace LLM (Flan-T5)"
   ]
  },
  {
   "cell_type": "code",
   "execution_count": 9,
   "id": "de3f7b1c-7755-4b36-95a7-d4e762b70495",
   "metadata": {},
   "outputs": [
    {
     "name": "stderr",
     "output_type": "stream",
     "text": [
      "Device set to use mps:0\n"
     ]
    }
   ],
   "source": [
    "from langchain_huggingface import HuggingFacePipeline\n",
    "from transformers import AutoTokenizer, AutoModelForSeq2SeqLM, pipeline\n",
    "\n",
    "# Load model\n",
    "model_name = \"google/flan-t5-base\"\n",
    "tokenizer = AutoTokenizer.from_pretrained(model_name)\n",
    "model = AutoModelForSeq2SeqLM.from_pretrained(model_name)\n",
    "\n",
    "# Build pipeline with sampling\n",
    "pipe = pipeline(\"text2text-generation\", model=model, tokenizer=tokenizer, max_length=100)\n",
    "\n",
    "# LangChain-compatible LLM wrapper\n",
    "llm = HuggingFacePipeline(pipeline=pipe)"
   ]
  },
  {
   "cell_type": "markdown",
   "id": "0904e0db-a96c-42f4-973b-4049cdefd2ce",
   "metadata": {},
   "source": [
    "## Step 3.3: Build and Run the RetrievalQA Chain"
   ]
  },
  {
   "cell_type": "code",
   "execution_count": 10,
   "id": "2d6e9ad2-dc77-46c4-bb39-d4fe137212ad",
   "metadata": {},
   "outputs": [
    {
     "name": "stdout",
     "output_type": "stream",
     "text": [
      "🔍 Question: What is NLP?\n",
      "📘 Answer: Natural Language Processing\n"
     ]
    }
   ],
   "source": [
    "from langchain.chains import RetrievalQA\n",
    "\n",
    "# Combine retriever and model\n",
    "qa_chain = RetrievalQA.from_chain_type(\n",
    "    llm=llm,\n",
    "    retriever=retriever,\n",
    "    chain_type=\"stuff\"  # simple chain: concatenate context + ask\n",
    ")\n",
    "\n",
    "# Ask a question\n",
    "query = \"What is NLP?\"\n",
    "result = qa_chain.invoke({\"query\": query})\n",
    "\n",
    "print(\"🔍 Question:\", query)\n",
    "print(\"📘 Answer:\", result['result'])"
   ]
  },
  {
   "cell_type": "markdown",
   "id": "42c83e01-fc3b-482f-8b8d-e700b7181d73",
   "metadata": {},
   "source": [
    "What's happening:\n",
    "retriever: Pulls relevant chunks using FAISS, \n",
    "llm: Generates answer using HuggingFace model, \n",
    "stuff chain: Simply stuffs all retrieved text into prompt\n"
   ]
  },
  {
   "cell_type": "markdown",
   "id": "a856caf2-892e-4dbf-8d93-eb67537f69fe",
   "metadata": {},
   "source": [
    "# Block: 4 — Save and Reload FAISS Index"
   ]
  },
  {
   "cell_type": "markdown",
   "id": "337392f3-75d3-4632-889d-09fc53dd1a76",
   "metadata": {},
   "source": [
    "## Step 4.1: Save the FAISS Index to Disk"
   ]
  },
  {
   "cell_type": "code",
   "execution_count": 14,
   "id": "0942e16d-3e22-4bb9-ba7e-903e83d4a3de",
   "metadata": {},
   "outputs": [],
   "source": [
    "# Save FAISS vectorstore to disk\n",
    "vectorstore.save_local(\"../data/vectorstores/nlp_index\")"
   ]
  },
  {
   "cell_type": "markdown",
   "id": "a8e998b7-0910-4028-a2c1-399394e35b16",
   "metadata": {},
   "source": [
    "This creates a folder called vectorstores/nlp_index/ with:\n",
    "\t•\tindex.faiss: vector index\n",
    "\t•\tindex.pkl: metadata and documents"
   ]
  },
  {
   "cell_type": "markdown",
   "id": "777ba2f1-e334-4a62-8ace-a0651aee28eb",
   "metadata": {},
   "source": [
    "## Step 4.2: Load FAISS Index Later"
   ]
  },
  {
   "cell_type": "code",
   "execution_count": 17,
   "id": "27609149-d5a9-4ac8-936c-04e6426ef3a4",
   "metadata": {},
   "outputs": [],
   "source": [
    "\n",
    "# Reuse the same embedding model\n",
    "embedding_model = HuggingFaceEmbeddings(model_name=\"all-MiniLM-L6-v2\")\n",
    "\n",
    "# Load the index\n",
    "vectorstore = FAISS.load_local(\n",
    "    \"../data/vectorstores/nlp_index\",\n",
    "    embeddings=embedding_model,\n",
    "    allow_dangerous_deserialization=True\n",
    ")\n",
    "\n",
    "# Rebuild retriever + QA chain\n",
    "retriever = vectorstore.as_retriever()\n",
    "qa_chain = RetrievalQA.from_chain_type(llm=llm, retriever=retriever, chain_type=\"stuff\")"
   ]
  },
  {
   "cell_type": "markdown",
   "id": "18579c7c-fc36-48c8-9c67-66f8e85b3e7e",
   "metadata": {},
   "source": [
    "You can now use qa_chain.invoke({\"query\": ...}) again without needing to rerun chunking + embedding."
   ]
  },
  {
   "cell_type": "code",
   "execution_count": null,
   "id": "c8a0137f-e4b9-4936-994f-63e8bc623015",
   "metadata": {},
   "outputs": [],
   "source": []
  }
 ],
 "metadata": {
  "kernelspec": {
   "display_name": "Python (ai_env)",
   "language": "python",
   "name": "ai_env"
  },
  "language_info": {
   "codemirror_mode": {
    "name": "ipython",
    "version": 3
   },
   "file_extension": ".py",
   "mimetype": "text/x-python",
   "name": "python",
   "nbconvert_exporter": "python",
   "pygments_lexer": "ipython3",
   "version": "3.11.11"
  }
 },
 "nbformat": 4,
 "nbformat_minor": 5
}
