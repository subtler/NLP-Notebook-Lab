{
 "cells": [
  {
   "cell_type": "markdown",
   "id": "bef5b566-0ccd-42df-ac80-f581d35b01b1",
   "metadata": {},
   "source": [
    "### Load a QA Pipeline"
   ]
  },
  {
   "cell_type": "code",
   "execution_count": 2,
   "id": "1181c422-aa6c-44af-9abf-66bb759af8f1",
   "metadata": {},
   "outputs": [
    {
     "data": {
      "application/vnd.jupyter.widget-view+json": {
       "model_id": "28c2245da7d04410a742ad35b6f00250",
       "version_major": 2,
       "version_minor": 0
      },
      "text/plain": [
       "config.json:   0%|          | 0.00/473 [00:00<?, ?B/s]"
      ]
     },
     "metadata": {},
     "output_type": "display_data"
    },
    {
     "data": {
      "application/vnd.jupyter.widget-view+json": {
       "model_id": "38f8dd0afe6e49d698ee8a93f08f2a17",
       "version_major": 2,
       "version_minor": 0
      },
      "text/plain": [
       "model.safetensors:   0%|          | 0.00/261M [00:00<?, ?B/s]"
      ]
     },
     "metadata": {},
     "output_type": "display_data"
    },
    {
     "data": {
      "application/vnd.jupyter.widget-view+json": {
       "model_id": "f2a55c428c33423ca415e235ab52f35b",
       "version_major": 2,
       "version_minor": 0
      },
      "text/plain": [
       "tokenizer_config.json:   0%|          | 0.00/49.0 [00:00<?, ?B/s]"
      ]
     },
     "metadata": {},
     "output_type": "display_data"
    },
    {
     "data": {
      "application/vnd.jupyter.widget-view+json": {
       "model_id": "b54712a388884807b301ce4fa4f37e5f",
       "version_major": 2,
       "version_minor": 0
      },
      "text/plain": [
       "vocab.txt:   0%|          | 0.00/213k [00:00<?, ?B/s]"
      ]
     },
     "metadata": {},
     "output_type": "display_data"
    },
    {
     "data": {
      "application/vnd.jupyter.widget-view+json": {
       "model_id": "0399d0ac7b434fee8f5b36f87e4dabd4",
       "version_major": 2,
       "version_minor": 0
      },
      "text/plain": [
       "tokenizer.json:   0%|          | 0.00/436k [00:00<?, ?B/s]"
      ]
     },
     "metadata": {},
     "output_type": "display_data"
    },
    {
     "name": "stderr",
     "output_type": "stream",
     "text": [
      "Device set to use mps:0\n"
     ]
    }
   ],
   "source": [
    "from transformers import pipeline\n",
    "\n",
    "qa_pipeline = pipeline('question-answering', model=\"distilbert-base-cased-distilled-squad\")"
   ]
  },
  {
   "cell_type": "markdown",
   "id": "0e008016-5fa7-4875-bf8a-ed2b5758843b",
   "metadata": {},
   "source": [
    "# Run QA on Real Context"
   ]
  },
  {
   "cell_type": "code",
   "execution_count": 3,
   "id": "8b687ee2-8a7e-4c38-8f2d-c8496c5d44dc",
   "metadata": {},
   "outputs": [
    {
     "name": "stdout",
     "output_type": "stream",
     "text": [
      "Answer: 1921 (Score: 1.00)\n"
     ]
    }
   ],
   "source": [
    "context = \"\"\"\n",
    "Albert Einstein was a theoretical physicist who developed the theory of relativity.\n",
    "He was born in Germany in 1879 and won the Nobel Prize in Physics in 1921 for his work on the photoelectric effect.\n",
    "\"\"\"\n",
    "\n",
    "question = \"When did Einstein win the Nobel Prize?\"\n",
    "\n",
    "result = qa_pipeline(question=question, context=context)\n",
    "print(f\"Answer: {result['answer']} (Score: {result['score']:.2f})\")"
   ]
  },
  {
   "cell_type": "code",
   "execution_count": null,
   "id": "51fc696b-6c5f-4879-ad3f-2fdf05f22d80",
   "metadata": {},
   "outputs": [],
   "source": []
  }
 ],
 "metadata": {
  "kernelspec": {
   "display_name": "Python 3 (ipykernel)",
   "language": "python",
   "name": "python3"
  },
  "language_info": {
   "codemirror_mode": {
    "name": "ipython",
    "version": 3
   },
   "file_extension": ".py",
   "mimetype": "text/x-python",
   "name": "python",
   "nbconvert_exporter": "python",
   "pygments_lexer": "ipython3",
   "version": "3.11.11"
  }
 },
 "nbformat": 4,
 "nbformat_minor": 5
}
