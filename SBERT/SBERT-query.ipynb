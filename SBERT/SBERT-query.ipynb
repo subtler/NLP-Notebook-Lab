{
 "cells": [
  {
   "cell_type": "code",
   "execution_count": 5,
   "id": "134bf40c-48ee-4c21-92c7-8fc435ce0f7c",
   "metadata": {},
   "outputs": [],
   "source": [
    "from sentence_transformers import SentenceTransformer, util\n",
    "\n",
    "# Load a strong sentence similarity model\n",
    "model = SentenceTransformer(\"all-MiniLM-L6-v2\")  # Small, fast, powerful\n",
    "\n",
    "import torch"
   ]
  },
  {
   "cell_type": "markdown",
   "id": "d4180035-ef49-479b-a67d-6a4a367b8407",
   "metadata": {},
   "source": [
    "# Define a Query + List of Sentences"
   ]
  },
  {
   "cell_type": "code",
   "execution_count": 6,
   "id": "f1e7d657-214a-4ca4-b7ba-a00954d92fbc",
   "metadata": {},
   "outputs": [],
   "source": [
    "#FAQ matcher\n",
    "# query sentence\n",
    "query = \"What is artificial intelligence?\"\n",
    "\n",
    "# Candidate sentences (e.g. from FAQ, resumes, knowledge base)\n",
    "sentences = [\n",
    "    \"Explain AI and how it works.\",\n",
    "    \"What is the capital of France?\",\n",
    "    \"How does deep learning differ from traditional programming?\",\n",
    "    \"Tell me about the history of machine learning.\"\n",
    "]"
   ]
  },
  {
   "cell_type": "markdown",
   "id": "60c2f498-5154-4f77-b81a-10f1a6d3c567",
   "metadata": {},
   "source": [
    "# Encode and Compute Similarity"
   ]
  },
  {
   "cell_type": "code",
   "execution_count": 8,
   "id": "aa915915-67ad-4e3b-8296-01d8de4e82ca",
   "metadata": {},
   "outputs": [
    {
     "name": "stdout",
     "output_type": "stream",
     "text": [
      "\n",
      "🔍 Query: What is artificial intelligence?\n",
      "\n",
      "💡 Most similar sentence: Explain AI and how it works.\n",
      "Cosine similarity: 0.7273\n"
     ]
    }
   ],
   "source": [
    "# Encode all at once for efficiency\n",
    "query_emb = model.encode(query, convert_to_tensor=True)\n",
    "sentence_emb = model.encode(sentences, convert_to_tensor=True)\n",
    "\n",
    "# Compute cosine similarities\n",
    "cos_scores = util.pytorch_cos_sim(query_emb, sentence_emb)[0]\n",
    "\n",
    "# Sort by highest similarity\n",
    "top_result = torch.topk(cos_scores, k=1)\n",
    "top_index = top_result.indices[0].item()\n",
    "\n",
    "print(f\"\\n🔍 Query: {query}\")\n",
    "print(f\"\\n💡 Most similar sentence: {sentences[top_index]}\")\n",
    "print(f\"Cosine similarity: {cos_scores[top_index]:.4f}\")"
   ]
  },
  {
   "cell_type": "code",
   "execution_count": null,
   "id": "021d7f16-c628-4cca-9294-9855ae3402d5",
   "metadata": {},
   "outputs": [],
   "source": []
  }
 ],
 "metadata": {
  "kernelspec": {
   "display_name": "Python 3 (ipykernel)",
   "language": "python",
   "name": "python3"
  },
  "language_info": {
   "codemirror_mode": {
    "name": "ipython",
    "version": 3
   },
   "file_extension": ".py",
   "mimetype": "text/x-python",
   "name": "python",
   "nbconvert_exporter": "python",
   "pygments_lexer": "ipython3",
   "version": "3.11.11"
  }
 },
 "nbformat": 4,
 "nbformat_minor": 5
}
