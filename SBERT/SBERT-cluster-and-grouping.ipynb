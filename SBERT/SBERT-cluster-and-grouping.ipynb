{
 "cells": [
  {
   "cell_type": "code",
   "execution_count": 1,
   "id": "ead3176a-1cc9-4be9-8bc6-978ea965203f",
   "metadata": {},
   "outputs": [],
   "source": [
    "from sentence_transformers import SentenceTransformer, util\n",
    "\n",
    "# Load a strong sentence similarity model\n",
    "model = SentenceTransformer('all-MiniLM-L6-V2') # Small, fast, powerful"
   ]
  },
  {
   "cell_type": "markdown",
   "id": "113e842e-4ec9-4bb5-b513-af4e64e6f7a4",
   "metadata": {},
   "source": [
    "## Define a Set of Sentences"
   ]
  },
  {
   "cell_type": "code",
   "execution_count": 2,
   "id": "006a0cf9-fd67-45af-ac8c-3c1188a28420",
   "metadata": {},
   "outputs": [],
   "source": [
    "sentences = [\n",
    "    \"I love machine learning.\",\n",
    "    \"Deep learning is a subset of AI.\",\n",
    "    \"What's your favorite sport?\",\n",
    "    \"Neural networks are powerful tools.\",\n",
    "    \"I enjoy playing football.\",\n",
    "    \"Support vector machines are useful for classification.\",\n",
    "    \"Soccer is a very popular sport.\",\n",
    "]"
   ]
  },
  {
   "cell_type": "markdown",
   "id": "f57078e6-a2cb-4f03-b774-024c169a65b3",
   "metadata": {},
   "source": [
    "## Encode the Sentences"
   ]
  },
  {
   "cell_type": "code",
   "execution_count": 3,
   "id": "7703dcad-ba7c-40d5-857c-0b723f65853f",
   "metadata": {},
   "outputs": [],
   "source": [
    "embeddings = model.encode(sentences)"
   ]
  },
  {
   "cell_type": "markdown",
   "id": "f9681f2f-66ee-44bf-ba05-19878108a19c",
   "metadata": {},
   "source": [
    "## Cluster Using Cosine Similarity"
   ]
  },
  {
   "cell_type": "code",
   "execution_count": 4,
   "id": "846a2694-3480-420b-9fe5-d7a0e4b73fa3",
   "metadata": {},
   "outputs": [
    {
     "name": "stderr",
     "output_type": "stream",
     "text": [
      "huggingface/tokenizers: The current process just got forked, after parallelism has already been used. Disabling parallelism to avoid deadlocks...\n",
      "To disable this warning, you can either:\n",
      "\t- Avoid using `tokenizers` before the fork if possible\n",
      "\t- Explicitly set the environment variable TOKENIZERS_PARALLELISM=(true | false)\n"
     ]
    }
   ],
   "source": [
    "from sklearn.cluster import KMeans\n",
    "\n",
    "# Number of clusters you expect (here, 2: ML & Sports)\n",
    "num_clusters = 2\n",
    "clustering_model = KMeans(n_clusters=num_clusters)\n",
    "clustering_model.fit(embeddings)\n",
    "cluster_assignment = clustering_model.labels_\n",
    "#labels-For each sentence, it tells which cluster it belongs to.\n",
    "    #You get a list like: [0, 0, 1, 0, 1, 0, 1], (Each number corresponds to the group the sentence was assigned to.)"
   ]
  },
  {
   "cell_type": "markdown",
   "id": "c591ab5a-8552-4d8d-8029-a9b9621b1e12",
   "metadata": {},
   "source": [
    "## Display Grouped Sentences"
   ]
  },
  {
   "cell_type": "code",
   "execution_count": 7,
   "id": "b85501bf-c6ee-4cc7-bb7d-e25790bf23d0",
   "metadata": {},
   "outputs": [],
   "source": [
    "from collections import defaultdict#defaultdict(list)-A dictionary where every new key auto-creates an empty list\n",
    "\n",
    "\n",
    "clusters = defaultdict(list)\n",
    "for i, cluster_id in enumerate(cluster_assignment):\n",
    "    clusters[cluster_id].append(sentences[i])"
   ]
  },
  {
   "cell_type": "markdown",
   "id": "06eba3da-b6b9-4b18-997d-e73bbaccbccc",
   "metadata": {},
   "source": [
    "This goes sentence by sentence:\n",
    "\t•\tTakes sentence i\n",
    "\t•\tLooks up which cluster it was assigned to → cluster_id\n",
    "\t•\tAppends it into the right cluster list in the dictionary"
   ]
  },
  {
   "cell_type": "code",
   "execution_count": 8,
   "id": "f8c6d283-8a6a-40a5-bdd3-da10d7de28ab",
   "metadata": {},
   "outputs": [
    {
     "name": "stdout",
     "output_type": "stream",
     "text": [
      "\n",
      "🔗 Cluster 1:\n",
      "  - I love machine learning.\n",
      "  - Deep learning is a subset of AI.\n",
      "  - Neural networks are powerful tools.\n",
      "  - Support vector machines are useful for classification.\n",
      "\n",
      "🔗 Cluster 0:\n",
      "  - What's your favorite sport?\n",
      "  - I enjoy playing football.\n",
      "  - Soccer is a very popular sport.\n"
     ]
    }
   ],
   "source": [
    "# Show grouped results\n",
    "for cluster_id, grouped_sentences in clusters.items():\n",
    "    print(f\"\\n🔗 Cluster {cluster_id}:\")\n",
    "    for sentence in grouped_sentences:\n",
    "        print(f\"  - {sentence}\")"
   ]
  },
  {
   "cell_type": "code",
   "execution_count": null,
   "id": "a9e30abd-f5c8-47ce-92ed-7000685315a4",
   "metadata": {},
   "outputs": [],
   "source": []
  }
 ],
 "metadata": {
  "kernelspec": {
   "display_name": "Python 3 (ipykernel)",
   "language": "python",
   "name": "python3"
  },
  "language_info": {
   "codemirror_mode": {
    "name": "ipython",
    "version": 3
   },
   "file_extension": ".py",
   "mimetype": "text/x-python",
   "name": "python",
   "nbconvert_exporter": "python",
   "pygments_lexer": "ipython3",
   "version": "3.11.11"
  }
 },
 "nbformat": 4,
 "nbformat_minor": 5
}
