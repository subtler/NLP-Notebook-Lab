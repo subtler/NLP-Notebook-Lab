{
 "cells": [
  {
   "cell_type": "markdown",
   "id": "7dc6f0d6-61f0-4c34-8fd7-1e079c4f2446",
   "metadata": {},
   "source": [
    "## Step 0: Imports"
   ]
  },
  {
   "cell_type": "code",
   "execution_count": null,
   "id": "0bb6c8a5-ed4b-40ca-b682-7fee4280304d",
   "metadata": {},
   "outputs": [],
   "source": [
    "from pinecone import Pinecone, ServerlessSpec\n",
    "from sentence_transformers import SentenceTransformer\n",
    "import os"
   ]
  },
  {
   "cell_type": "code",
   "execution_count": null,
   "id": "fa8f1287-abd5-4a52-8eee-2ede8ea1085a",
   "metadata": {},
   "outputs": [],
   "source": [
    "# Step 2: Import libraries\n",
    "from pinecone import Pinecone, ServerlessSpec\n",
    "from sentence_transformers import SentenceTransformer\n",
    "import os\n",
    "\n",
    "# Step 3: Initialize Pinecone\n",
    "api_key = \"your_pinecone_api\"  # 🔐 Paste your Pinecone API key\n",
    "pc = Pinecone(api_key=api_key)\n",
    "\n",
    "# Step 4: Create index (only do this once, skip if already created)\n",
    "index_name = \"nlp-demo2\"\n",
    "dimension = 384  # because we're using all-MiniLM-L6-v2\n",
    "\n",
    "if index_name not in pc.list_indexes().names():\n",
    "    pc.create_index(\n",
    "        name=index_name,\n",
    "        dimension=dimension,\n",
    "        metric=\"cosine\",\n",
    "        spec=ServerlessSpec(\n",
    "            cloud=\"aws\",        # or \"gcp\"\n",
    "            region=\"us-east-1\"  # match your Pinecone project region\n",
    "        )\n",
    "    )\n",
    "model = SentenceTransformer(\"all-MiniLM-L6-v2\")"
   ]
  },
  {
   "cell_type": "markdown",
   "id": "7692e356-d645-4c26-aa86-430570c653d5",
   "metadata": {},
   "source": [
    "## Step 1: Replace Sentences with FAQs"
   ]
  },
  {
   "cell_type": "code",
   "execution_count": 2,
   "id": "73762b6d-1b5b-4baf-ad9a-8ff2b7f7f507",
   "metadata": {},
   "outputs": [],
   "source": [
    "faqs = [\n",
    "    {\"title\": \"Reset Password\", \"text\": \"You can reset your password from the settings page.\", \"category\": \"account\"},\n",
    "    {\"title\": \"Refund Policy\", \"text\": \"Refunds are processed within 5–7 business days.\", \"category\": \"billing\"},\n",
    "    {\"title\": \"Upgrade Plan\", \"text\": \"You can upgrade your plan from the billing section.\", \"category\": \"billing\"},\n",
    "    {\"title\": \"Contact Support\", \"text\": \"To contact support, go to the Help Center.\", \"category\": \"support\"},\n",
    "    {\"title\": \"Free Trial\", \"text\": \"We offer a free trial for all new users.\", \"category\": \"pricing\"},\n",
    "]"
   ]
  },
  {
   "cell_type": "markdown",
   "id": "fba1f7df-4d25-458f-8742-455a3e3519de",
   "metadata": {},
   "source": [
    "## Step 2: Encode and Upsert with Metadata"
   ]
  },
  {
   "cell_type": "code",
   "execution_count": 3,
   "id": "9e81e825-db70-42fb-8b36-21e223be0a21",
   "metadata": {},
   "outputs": [
    {
     "data": {
      "text/plain": [
       "{'upserted_count': 5}"
      ]
     },
     "execution_count": 3,
     "metadata": {},
     "output_type": "execute_result"
    }
   ],
   "source": [
    "# Extract only the text for embedding\n",
    "texts = [item[\"text\"] for item in faqs]\n",
    "embeddings = model.encode(texts)\n",
    "\n",
    "# Add metadata + upsert\n",
    "to_upsert = [\n",
    "    (\n",
    "        f\"id-{i}\",\n",
    "        embeddings[i].tolist(),\n",
    "        {  # metadata dictionary\n",
    "            \"title\": faqs[i][\"title\"],\n",
    "            \"category\": faqs[i][\"category\"],\n",
    "            \"text\": faqs[i][\"text\"]\n",
    "        }\n",
    "    )\n",
    "    for i in range(len(faqs))\n",
    "]\n",
    "index = pc.Index(index_name)\n",
    "index.upsert(vectors=to_upsert)"
   ]
  },
  {
   "cell_type": "markdown",
   "id": "3c7be0b9-848d-48d3-834e-96ed7b63f5ff",
   "metadata": {},
   "source": [
    "## Step 3: Search and Return Metadata"
   ]
  },
  {
   "cell_type": "code",
   "execution_count": 4,
   "id": "0178843e-87b4-4f78-b762-22c69f89060a",
   "metadata": {},
   "outputs": [
    {
     "name": "stdout",
     "output_type": "stream",
     "text": [
      "💬 Ask your question:  I need help contacting customer support.\n"
     ]
    },
    {
     "name": "stdout",
     "output_type": "stream",
     "text": [
      "\n",
      "🔍 Question: I need help contacting customer support.\n",
      "\n",
      "📌 Title: Contact Support\n",
      "📂 Category: support\n",
      "✅ Answer: To contact support, go to the Help Center.\n",
      "🔢 Score: 0.7232\n",
      "\n",
      "📌 Title: Upgrade Plan\n",
      "📂 Category: billing\n",
      "✅ Answer: You can upgrade your plan from the billing section.\n",
      "🔢 Score: 0.3551\n",
      "\n"
     ]
    }
   ],
   "source": [
    "user_question = input(\"💬 Ask your question: \")\n",
    "query_vec = model.encode([user_question]).tolist()[0]\n",
    "\n",
    "result = index.query(vector=query_vec, top_k=2, include_metadata=True)\n",
    "\n",
    "print(f\"\\n🔍 Question: {user_question}\\n\")\n",
    "for match in result[\"matches\"]:\n",
    "    meta = match[\"metadata\"]\n",
    "    print(f\"📌 Title: {meta['title']}\")\n",
    "    print(f\"📂 Category: {meta['category']}\")\n",
    "    print(f\"✅ Answer: {meta['text']}\")\n",
    "    print(f\"🔢 Score: {match['score']:.4f}\\n\")"
   ]
  }
 ],
 "metadata": {
  "kernelspec": {
   "display_name": "ai_env",
   "language": "python",
   "name": "python3"
  },
  "language_info": {
   "codemirror_mode": {
    "name": "ipython",
    "version": 3
   },
   "file_extension": ".py",
   "mimetype": "text/x-python",
   "name": "python",
   "nbconvert_exporter": "python",
   "pygments_lexer": "ipython3",
   "version": "3.11.11"
  }
 },
 "nbformat": 4,
 "nbformat_minor": 5
}
