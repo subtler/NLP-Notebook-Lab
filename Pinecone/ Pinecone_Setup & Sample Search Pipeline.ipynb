{
 "cells": [
  {
   "cell_type": "markdown",
   "id": "1c537034-7d64-44bb-9dfc-bdc7e68368c1",
   "metadata": {},
   "source": [
    "# Pinecone_Setup & Sample Search Pipeline"
   ]
  },
  {
   "cell_type": "markdown",
   "id": "0e52a17a-cecc-495d-afe2-1e408f6cf711",
   "metadata": {},
   "source": [
    "## Step 1: Set Up Pinecone API"
   ]
  },
  {
   "cell_type": "code",
   "execution_count": null,
   "id": "65e4ea76-8b1e-4019-a691-6a52dc760b7a",
   "metadata": {},
   "outputs": [],
   "source": [
    "# Step 2: Import libraries\n",
    "from pinecone import Pinecone, ServerlessSpec\n",
    "from sentence_transformers import SentenceTransformer\n",
    "import os\n",
    "\n",
    "# Step 3: Initialize Pinecone\n",
    "api_key = \"your_api_pinecone\"  # 🔐 Paste your Pinecone API key\n",
    "pc = Pinecone(api_key=api_key)\n",
    "\n",
    "# Step 4: Create index (only do this once, skip if already created)\n",
    "index_name = \"nlp-demo\"\n",
    "dimension = 384  # because we're using all-MiniLM-L6-v2\n",
    "\n",
    "if index_name not in pc.list_indexes().names():\n",
    "    pc.create_index(\n",
    "        name=index_name,\n",
    "        dimension=dimension,\n",
    "        metric=\"cosine\",\n",
    "        spec=ServerlessSpec(\n",
    "            cloud=\"aws\",        # or \"gcp\"\n",
    "            region=\"us-east-1\"  # match your Pinecone project region\n",
    "        )\n",
    "    )"
   ]
  },
  {
   "cell_type": "code",
   "execution_count": 2,
   "id": "b69b8f88-e5ed-47b6-9515-a62511304218",
   "metadata": {},
   "outputs": [
    {
     "data": {
      "text/plain": [
       "{'upserted_count': 3}"
      ]
     },
     "execution_count": 2,
     "metadata": {},
     "output_type": "execute_result"
    }
   ],
   "source": [
    "# Step 5: Load your model and generate embeddings\n",
    "model = SentenceTransformer(\"all-MiniLM-L6-v2\")\n",
    "\n",
    "sentences = [\n",
    "    \"Looking for a backend engineer with Python experience.\",\n",
    "    \"Proficient in data analysis using SQL and Python.\",\n",
    "    \"Seeking an expert in AWS cloud deployment.\",\n",
    "]\n",
    "\n",
    "embeddings = model.encode(sentences)\n",
    "\n",
    "# Step 6: Format and upsert into Pinecone\n",
    "index = pc.Index(index_name)\n",
    "to_upsert = [(f\"id-{i}\", embedding.tolist()) for i, embedding in enumerate(embeddings)]\n",
    "\n",
    "index.upsert(vectors=to_upsert)"
   ]
  },
  {
   "cell_type": "code",
   "execution_count": 3,
   "id": "f0ec4d82-01c4-4dae-9c11-1b7625d71872",
   "metadata": {},
   "outputs": [
    {
     "name": "stdout",
     "output_type": "stream",
     "text": [
      "\n",
      "🔍 Query: Cloud engineer with AWS knowledge\n",
      "\n",
      "✅ Match: Seeking an expert in AWS cloud deployment.\n",
      "🆔 ID: id-2 | 🔢 Score: 0.7948\n",
      "\n",
      "✅ Match: Looking for a backend engineer with Python experience.\n",
      "🆔 ID: id-0 | 🔢 Score: 0.3860\n",
      "\n",
      "✅ Match: Proficient in data analysis using SQL and Python.\n",
      "🆔 ID: id-1 | 🔢 Score: 0.2042\n",
      "\n"
     ]
    }
   ],
   "source": [
    "# Query sentence\n",
    "query = \"Cloud engineer with AWS knowledge\"\n",
    "query_vector = model.encode([query]).tolist()[0]\n",
    "\n",
    "# Perform search\n",
    "result = index.query(vector=query_vector, top_k=3)\n",
    "\n",
    "# Sentence mapping (for display purposes)\n",
    "id_to_sentence = {\n",
    "    f\"id-{i}\": sentence for i, sentence in enumerate(sentences)\n",
    "}\n",
    "\n",
    "# Display results with full sentence\n",
    "print(f\"\\n🔍 Query: {query}\\n\")\n",
    "for match in result['matches']:\n",
    "    matched_id = match['id']\n",
    "    matched_score = match['score']\n",
    "    matched_sentence = id_to_sentence.get(matched_id, \"Sentence not found\")\n",
    "\n",
    "    print(f\"✅ Match: {matched_sentence}\")\n",
    "    print(f\"🆔 ID: {matched_id} | 🔢 Score: {matched_score:.4f}\\n\")"
   ]
  },
  {
   "cell_type": "code",
   "execution_count": null,
   "id": "d1e4956c-507f-495a-b173-6bb9452e1469",
   "metadata": {},
   "outputs": [],
   "source": []
  }
 ],
 "metadata": {
  "kernelspec": {
   "display_name": "Python (ai_env)",
   "language": "python",
   "name": "ai_env"
  },
  "language_info": {
   "codemirror_mode": {
    "name": "ipython",
    "version": 3
   },
   "file_extension": ".py",
   "mimetype": "text/x-python",
   "name": "python",
   "nbconvert_exporter": "python",
   "pygments_lexer": "ipython3",
   "version": "3.11.11"
  }
 },
 "nbformat": 4,
 "nbformat_minor": 5
}
