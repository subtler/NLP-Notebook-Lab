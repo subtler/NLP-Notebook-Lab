{
 "cells": [
  {
   "cell_type": "markdown",
   "id": "7dc6f0d6-61f0-4c34-8fd7-1e079c4f2446",
   "metadata": {},
   "source": [
    "## Step 0: Imports"
   ]
  },
  {
   "cell_type": "code",
   "execution_count": 1,
   "id": "0bb6c8a5-ed4b-40ca-b682-7fee4280304d",
   "metadata": {},
   "outputs": [],
   "source": [
    "from pinecone import Pinecone, ServerlessSpec\n",
    "from sentence_transformers import SentenceTransformer\n",
    "import os"
   ]
  },
  {
   "cell_type": "code",
   "execution_count": null,
   "id": "fa8f1287-abd5-4a52-8eee-2ede8ea1085a",
   "metadata": {},
   "outputs": [],
   "source": [
    "# Step 2: Import libraries\n",
    "from pinecone import Pinecone, ServerlessSpec\n",
    "from sentence_transformers import SentenceTransformer\n",
    "import os\n",
    "\n",
    "# Step 3: Initialize Pinecone\n",
    "api_key = \"your_pinecone_api\"  # 🔐 Paste your Pinecone API key\n",
    "pc = Pinecone(api_key=api_key)\n",
    "\n",
    "# Step 4: Create index (only do this once, skip if already created)\n",
    "index_name = \"nlp-demo2\"\n",
    "dimension = 384  # because we're using all-MiniLM-L6-v2\n",
    "\n",
    "if index_name not in pc.list_indexes().names():\n",
    "    pc.create_index(\n",
    "        name=index_name,\n",
    "        dimension=dimension,\n",
    "        metric=\"cosine\",\n",
    "        spec=ServerlessSpec(\n",
    "            cloud=\"aws\",        # or \"gcp\"\n",
    "            region=\"us-east-1\"  # match your Pinecone project region\n",
    "        )\n",
    "    )\n",
    "model = SentenceTransformer(\"all-MiniLM-L6-v2\")"
   ]
  },
  {
   "cell_type": "markdown",
   "id": "7692e356-d645-4c26-aa86-430570c653d5",
   "metadata": {},
   "source": [
    "## Step 1: Replace Sentences with FAQs"
   ]
  },
  {
   "cell_type": "code",
   "execution_count": 3,
   "id": "73762b6d-1b5b-4baf-ad9a-8ff2b7f7f507",
   "metadata": {},
   "outputs": [],
   "source": [
    "faqs = [\n",
    "    \"You can reset your password from the settings page.\",\n",
    "    \"Refunds are processed within 5–7 business days.\",\n",
    "    \"You can upgrade your plan from the billing section.\",\n",
    "    \"To contact support, go to the Help Center.\",\n",
    "    \"We offer a free trial for all new users.\",\n",
    "]"
   ]
  },
  {
   "cell_type": "code",
   "execution_count": 5,
   "id": "87c826f6-f388-4d38-821a-254f4eaa294b",
   "metadata": {},
   "outputs": [],
   "source": [
    "faq_embeddings = model.encode(faqs)\n",
    "index = pc.Index(index_name)\n",
    "to_upsert = [(f\"id-{i}\", emb.tolist()) for i, emb in enumerate(faq_embeddings)]\n",
    "\n",
    "index.upsert(vectors=to_upsert)\n",
    "\n",
    "# Also build ID → answer mapping\n",
    "id_to_faq = {f\"id-{i}\": faq for i, faq in enumerate(faqs)}"
   ]
  },
  {
   "cell_type": "markdown",
   "id": "a9e1cacb-2d42-4896-a7f0-098bb61b86ef",
   "metadata": {},
   "source": [
    "## Step 2: Semantic Search on User’s Question"
   ]
  },
  {
   "cell_type": "code",
   "execution_count": null,
   "id": "4e953084-dc8e-41ff-a195-c0b197029411",
   "metadata": {},
   "outputs": [],
   "source": []
  },
  {
   "cell_type": "code",
   "execution_count": 6,
   "id": "e99e0f3a-cb33-490b-b1e1-d942956487b8",
   "metadata": {},
   "outputs": [
    {
     "name": "stdout",
     "output_type": "stream",
     "text": [
      "💬 Ask a question:  how to get refund\n"
     ]
    },
    {
     "name": "stdout",
     "output_type": "stream",
     "text": [
      "\n",
      "🔍 Question: how to get refund\n",
      "\n",
      "✅ Answer: Refunds are processed within 5–7 business days.\n",
      "🆔 ID: id-1 | 🔢 Score: 0.5466\n",
      "\n",
      "✅ Answer: To contact support, go to the Help Center.\n",
      "🆔 ID: id-3 | 🔢 Score: 0.4118\n",
      "\n"
     ]
    }
   ],
   "source": [
    "user_question = input(\"💬 Ask a question: \")\n",
    "query_vec = model.encode([user_question]).tolist()[0]\n",
    "\n",
    "result = index.query(vector=query_vec, top_k=2)\n",
    "\n",
    "print(f\"\\n🔍 Question: {user_question}\\n\")\n",
    "for match in result[\"matches\"]:\n",
    "    faq_id = match[\"id\"]\n",
    "    score = match[\"score\"]\n",
    "    answer = id_to_faq.get(faq_id, \"Not found\")\n",
    "\n",
    "    print(f\"✅ Answer: {answer}\")\n",
    "    print(f\"🆔 ID: {faq_id} | 🔢 Score: {score:.4f}\\n\")"
   ]
  },
  {
   "cell_type": "code",
   "execution_count": null,
   "id": "647523b2-1c84-40d2-9a00-deebaef0b63a",
   "metadata": {},
   "outputs": [],
   "source": []
  },
  {
   "cell_type": "code",
   "execution_count": null,
   "id": "7b9c74be-4256-4541-b936-540912f9cf3d",
   "metadata": {},
   "outputs": [],
   "source": []
  },
  {
   "cell_type": "code",
   "execution_count": null,
   "id": "2912e671-856a-4395-bb44-c7bb06e2e1cc",
   "metadata": {},
   "outputs": [],
   "source": []
  }
 ],
 "metadata": {
  "kernelspec": {
   "display_name": "ai_env",
   "language": "python",
   "name": "python3"
  },
  "language_info": {
   "codemirror_mode": {
    "name": "ipython",
    "version": 3
   },
   "file_extension": ".py",
   "mimetype": "text/x-python",
   "name": "python",
   "nbconvert_exporter": "python",
   "pygments_lexer": "ipython3",
   "version": "3.11.11"
  }
 },
 "nbformat": 4,
 "nbformat_minor": 5
}
