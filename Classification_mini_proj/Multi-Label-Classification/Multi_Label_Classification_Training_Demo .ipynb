{
 "cells": [
  {
   "cell_type": "markdown",
   "id": "340634b5-39a2-46a2-b82c-9dcf69210d5f",
   "metadata": {},
   "source": [
    "# Step 1: Simulate a Mini Multi-label Dataset"
   ]
  },
  {
   "cell_type": "code",
   "execution_count": 1,
   "id": "4792724e-7144-427c-8f30-012aeedd89d9",
   "metadata": {},
   "outputs": [],
   "source": [
    "# Sample input sentences (like job descriptions or resume lines)\n",
    "texts = [\n",
    "    \"Looking for a data analyst skilled in Python and SQL.\",\n",
    "    \"We need a cloud engineer with AWS and Docker experience.\",\n",
    "    \"This role requires machine learning and deep learning expertise.\",\n",
    "]\n",
    "\n",
    "# Corresponding multi-labels (multi-hot encoded)\n",
    "# Format: [python, sql, aws, docker, ml, dl]\n",
    "# Why? Because multi-label = multiple '1's allowed\n",
    "labels = [\n",
    "    [1, 1, 0, 0, 0, 0],  # Python + SQL\n",
    "    [0, 0, 1, 1, 0, 0],  # AWS + Docker\n",
    "    [0, 0, 0, 0, 1, 1],  # ML + DL\n",
    "]"
   ]
  },
  {
   "cell_type": "markdown",
   "id": "e025742d-b43a-476e-8671-2f336e8cf1c7",
   "metadata": {},
   "source": [
    "# Step 2: Load Tokenizer and Encode Inputs"
   ]
  },
  {
   "cell_type": "code",
   "execution_count": 2,
   "id": "1547af3c-6856-4b93-8159-858dbac5370e",
   "metadata": {},
   "outputs": [],
   "source": [
    "from transformers import AutoTokenizer\n",
    "\n",
    "# Load BERT tokenizer (why? because it breaks input into tokens that BERT understands)\n",
    "tokenizer = AutoTokenizer.from_pretrained(\"bert-base-uncased\")\n",
    "\n",
    "# Tokenize input text (adds input_ids and attention_masks)\n",
    "# Why return_tensors=\"pt\"? To get PyTorch tensors directly\n",
    "encodings = tokenizer(texts, padding=True, truncation=True, return_tensors=\"pt\")"
   ]
  },
  {
   "cell_type": "markdown",
   "id": "f7d1f5b3-a3ab-4624-b884-23193a0a0ea9",
   "metadata": {},
   "source": [
    "# Step 3: Create a Custom Dataset"
   ]
  },
  {
   "cell_type": "code",
   "execution_count": 3,
   "id": "13a0afbc-04ee-4602-bea9-91c47b2e5741",
   "metadata": {},
   "outputs": [],
   "source": [
    "import torch\n",
    "\n",
    "# Custom dataset class for multi-label task\n",
    "class MultiLabelDataset(torch.utils.data.Dataset):\n",
    "    def __init__(self, encodings, labels):\n",
    "        self.encodings = encodings\n",
    "        self.labels = torch.tensor(labels, dtype=torch.float)  # Convert list to tensor\n",
    "\n",
    "    def __getitem__(self, idx):\n",
    "        # Return one sample: input_ids, attention_mask, and its multi-hot labels\n",
    "        item = {key: val[idx] for key, val in self.encodings.items()}\n",
    "        item[\"labels\"] = self.labels[idx]\n",
    "        return item\n",
    "\n",
    "    def __len__(self):\n",
    "        return len(self.labels)\n",
    "\n",
    "# Create the dataset object\n",
    "dataset = MultiLabelDataset(encodings, labels)"
   ]
  },
  {
   "cell_type": "markdown",
   "id": "ce0d0cb3-70a6-44bc-a07d-f3aa5fa48427",
   "metadata": {},
   "source": [
    "Why?\n",
    "Trainer expects a PyTorch-style dataset with __getitem__ and __len__. Each sample should return both inputs and labels."
   ]
  },
  {
   "cell_type": "markdown",
   "id": "aeec317d-5156-4207-b63c-e110d7c1ab86",
   "metadata": {},
   "source": [
    "# Step 4: Load Model + Configure for Multi-label Classification"
   ]
  },
  {
   "cell_type": "code",
   "execution_count": 4,
   "id": "0c107298-d1bc-4956-bdcb-1f15f05c4aa3",
   "metadata": {},
   "outputs": [
    {
     "name": "stderr",
     "output_type": "stream",
     "text": [
      "Some weights of BertForSequenceClassification were not initialized from the model checkpoint at bert-base-uncased and are newly initialized: ['classifier.bias', 'classifier.weight']\n",
      "You should probably TRAIN this model on a down-stream task to be able to use it for predictions and inference.\n"
     ]
    }
   ],
   "source": [
    "from transformers import AutoModelForSequenceClassification\n",
    "\n",
    "# Load a base BERT model with classification head\n",
    "model = AutoModelForSequenceClassification.from_pretrained(\n",
    "    \"bert-base-uncased\",\n",
    "    num_labels=6,  # We have 6 skill categories\n",
    "    problem_type=\"multi_label_classification\"  # This is key!\n",
    ")"
   ]
  },
  {
   "cell_type": "markdown",
   "id": "8a5e6013-c860-4b1f-8727-dd40f7ea7574",
   "metadata": {},
   "source": [
    "Why?\n",
    "\t•\tproblem_type=\"multi_label_classification\" automatically uses:\n",
    "\t•\tSigmoid activation\n",
    "\t•\tBCEWithLogitsLoss\n",
    "✅ Saves us from custom implementation"
   ]
  },
  {
   "cell_type": "markdown",
   "id": "a9894c3b-af1f-457d-8922-fb095c7a682a",
   "metadata": {},
   "source": [
    "# Step 5: TrainingArguments + Trainer"
   ]
  },
  {
   "cell_type": "code",
   "execution_count": 5,
   "id": "12b06703-17ff-40d7-b4e9-8bfed205dae6",
   "metadata": {},
   "outputs": [],
   "source": [
    "from transformers import TrainingArguments, Trainer\n",
    "\n",
    "# Set basic training configurations\n",
    "training_args = TrainingArguments(\n",
    "    output_dir=\"./results\",           # Where to save model logs\n",
    "    per_device_train_batch_size=2,    # Small batch for demo\n",
    "    num_train_epochs=3,               # Just 3 epochs for test run\n",
    "    logging_strategy=\"epoch\"          # Log once per epoch\n",
    ")\n",
    "\n",
    "# Trainer handles training loop, batching, optimizer, etc.\n",
    "trainer = Trainer(\n",
    "    model=model,\n",
    "    args=training_args,\n",
    "    train_dataset=dataset\n",
    ")\n"
   ]
  },
  {
   "cell_type": "code",
   "execution_count": 6,
   "id": "45f4a2a7-f69c-4ce0-91a3-d5afb4ed23c9",
   "metadata": {},
   "outputs": [
    {
     "name": "stderr",
     "output_type": "stream",
     "text": [
      "/opt/anaconda3/envs/ai_env/lib/python3.11/site-packages/torch/utils/data/dataloader.py:683: UserWarning: 'pin_memory' argument is set as true but not supported on MPS now, then device pinned memory won't be used.\n",
      "  warnings.warn(warn_msg)\n"
     ]
    },
    {
     "data": {
      "text/html": [
       "\n",
       "    <div>\n",
       "      \n",
       "      <progress value='6' max='6' style='width:300px; height:20px; vertical-align: middle;'></progress>\n",
       "      [6/6 00:12, Epoch 3/3]\n",
       "    </div>\n",
       "    <table border=\"1\" class=\"dataframe\">\n",
       "  <thead>\n",
       " <tr style=\"text-align: left;\">\n",
       "      <th>Step</th>\n",
       "      <th>Training Loss</th>\n",
       "    </tr>\n",
       "  </thead>\n",
       "  <tbody>\n",
       "    <tr>\n",
       "      <td>2</td>\n",
       "      <td>0.732900</td>\n",
       "    </tr>\n",
       "    <tr>\n",
       "      <td>4</td>\n",
       "      <td>0.648100</td>\n",
       "    </tr>\n",
       "    <tr>\n",
       "      <td>6</td>\n",
       "      <td>0.633300</td>\n",
       "    </tr>\n",
       "  </tbody>\n",
       "</table><p>"
      ],
      "text/plain": [
       "<IPython.core.display.HTML object>"
      ]
     },
     "metadata": {},
     "output_type": "display_data"
    },
    {
     "data": {
      "text/plain": [
       "TrainOutput(global_step=6, training_loss=0.6713985403378805, metrics={'train_runtime': 21.0003, 'train_samples_per_second': 0.429, 'train_steps_per_second': 0.286, 'total_flos': 69377476860.0, 'train_loss': 0.6713985403378805, 'epoch': 3.0})"
      ]
     },
     "execution_count": 6,
     "metadata": {},
     "output_type": "execute_result"
    }
   ],
   "source": [
    "# Run training\n",
    "trainer.train()"
   ]
  },
  {
   "cell_type": "code",
   "execution_count": null,
   "id": "55475ab3-2514-464e-bdf3-11f91b639832",
   "metadata": {},
   "outputs": [],
   "source": [
    " "
   ]
  }
 ],
 "metadata": {
  "kernelspec": {
   "display_name": "Python (ai_env)",
   "language": "python",
   "name": "ai_env"
  },
  "language_info": {
   "codemirror_mode": {
    "name": "ipython",
    "version": 3
   },
   "file_extension": ".py",
   "mimetype": "text/x-python",
   "name": "python",
   "nbconvert_exporter": "python",
   "pygments_lexer": "ipython3",
   "version": "3.11.11"
  }
 },
 "nbformat": 4,
 "nbformat_minor": 5
}
