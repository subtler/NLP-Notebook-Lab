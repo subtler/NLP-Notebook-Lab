{
 "cells": [
  {
   "cell_type": "code",
   "execution_count": 2,
   "id": "d20b00ec-6e11-4f27-9402-cd9c02379d77",
   "metadata": {},
   "outputs": [],
   "source": [
    "import pandas as pd"
   ]
  },
  {
   "cell_type": "code",
   "execution_count": 8,
   "id": "be60ac38-7258-44ba-9b83-bde24fb9c410",
   "metadata": {},
   "outputs": [],
   "source": [
    "messages = pd.read_csv('../data/smsspam', sep='\\t',\n",
    "                      names= ['label','message'])"
   ]
  },
  {
   "cell_type": "markdown",
   "id": "f6738477-d3c0-4df6-b952-46016a5ede85",
   "metadata": {},
   "source": [
    "### data cleaning and preprocessing"
   ]
  },
  {
   "cell_type": "code",
   "execution_count": 9,
   "id": "9ea9388c-5b8a-4df4-97d0-83f58d8f6fe5",
   "metadata": {},
   "outputs": [],
   "source": [
    "import re\n",
    "import nltk\n",
    "from nltk.corpus import stopwords\n",
    "from nltk.stem.porter import PorterStemmer"
   ]
  },
  {
   "cell_type": "code",
   "execution_count": 10,
   "id": "4915c026-f4ff-451d-8468-8bbe4a30fbc0",
   "metadata": {},
   "outputs": [],
   "source": [
    "ps =PorterStemmer()\n",
    "corpus= []"
   ]
  },
  {
   "cell_type": "code",
   "execution_count": 13,
   "id": "97ec1b1c-f44d-4010-8d02-784714468736",
   "metadata": {},
   "outputs": [],
   "source": [
    "for i in range(0, len(messages)):\n",
    "    review = re.sub('[^a-zA-Z]', ' ', messages['message'][i])\n",
    "    review = review.lower()\n",
    "    review = review.split()\n",
    "    \n",
    "    review = [ps.stem(word) for word in review if not word in stopwords.words('english')]\n",
    "    review = ' '.join(review)\n",
    "    corpus.append(review)"
   ]
  },
  {
   "cell_type": "markdown",
   "id": "e3eac8eb-e6ea-492b-a14b-3df4855ff346",
   "metadata": {},
   "source": [
    "### converting to vector using bow"
   ]
  },
  {
   "cell_type": "code",
   "execution_count": 26,
   "id": "0de80081-b24a-4f84-8103-2e9b52f3391a",
   "metadata": {},
   "outputs": [],
   "source": [
    "from sklearn.feature_extraction.text import CountVectorizer\n",
    "cv = CountVectorizer(max_features=2500)\n",
    "X = cv.fit_transform(corpus).toarray()\n"
   ]
  },
  {
   "cell_type": "code",
   "execution_count": 27,
   "id": "f61629da-2ea0-471d-8ff3-c5b11e980375",
   "metadata": {},
   "outputs": [],
   "source": [
    "y = pd.get_dummies(messages['label'])\n",
    "y = y.iloc[:,1].values"
   ]
  },
  {
   "cell_type": "markdown",
   "id": "dc9ff20e-ff76-43b6-8a7c-ddefef58936a",
   "metadata": {},
   "source": [
    "### train test split"
   ]
  },
  {
   "cell_type": "code",
   "execution_count": 28,
   "id": "fb6cdf7b-d135-4fc1-ac7d-1aa3843c6dc3",
   "metadata": {},
   "outputs": [],
   "source": [
    "from sklearn.model_selection import train_test_split\n",
    "X_train, X_test, y_train, y_test = train_test_split(X, y, test_size = 0.20, random_state = 0)\n"
   ]
  },
  {
   "cell_type": "markdown",
   "id": "24540c88-2243-4433-8512-614a6a309471",
   "metadata": {},
   "source": [
    "### Training model using Naive bayes classifier"
   ]
  },
  {
   "cell_type": "code",
   "execution_count": 31,
   "id": "a35e4ec2-12d2-4a76-ab1c-ad862d9f8d33",
   "metadata": {},
   "outputs": [],
   "source": [
    "from sklearn.naive_bayes import MultinomialNB\n",
    "spam_detect_model= MultinomialNB().fit(X_train, y_train)"
   ]
  },
  {
   "cell_type": "code",
   "execution_count": 32,
   "id": "5390c613-444b-4eb8-a8cc-9c8211ebfb1b",
   "metadata": {},
   "outputs": [],
   "source": [
    "y_pred = spam_detect_model.predict(X_test)"
   ]
  },
  {
   "cell_type": "code",
   "execution_count": null,
   "id": "759b9210-3912-451c-85ed-90c6381a8ea3",
   "metadata": {},
   "outputs": [],
   "source": []
  }
 ],
 "metadata": {
  "kernelspec": {
   "display_name": "Python (ai_env)",
   "language": "python",
   "name": "ai_env"
  },
  "language_info": {
   "codemirror_mode": {
    "name": "ipython",
    "version": 3
   },
   "file_extension": ".py",
   "mimetype": "text/x-python",
   "name": "python",
   "nbconvert_exporter": "python",
   "pygments_lexer": "ipython3",
   "version": "3.11.11"
  }
 },
 "nbformat": 4,
 "nbformat_minor": 5
}
