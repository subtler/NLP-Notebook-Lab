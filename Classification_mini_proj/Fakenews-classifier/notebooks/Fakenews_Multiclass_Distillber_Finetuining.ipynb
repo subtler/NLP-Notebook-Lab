{
 "cells": [
  {
   "cell_type": "markdown",
   "id": "7b3bac96-ff57-45ce-ae2b-6a53b8ee67d2",
   "metadata": {},
   "source": [
    "## Step 1: Import and Load the LIAR Dataset"
   ]
  },
  {
   "cell_type": "code",
   "execution_count": 3,
   "id": "11c99dff-3956-4cdb-bc31-d23e83248837",
   "metadata": {},
   "outputs": [],
   "source": [
    "from datasets import load_dataset\n",
    "\n",
    "# Load LIAR dataset (auto-downloads from HuggingFace)\n",
    "dataset = load_dataset(\"liar\")"
   ]
  },
  {
   "cell_type": "code",
   "execution_count": 7,
   "id": "dd47e6c5-d39d-45c7-b4e1-6969ea860a50",
   "metadata": {},
   "outputs": [
    {
     "name": "stdout",
     "output_type": "stream",
     "text": [
      "DatasetDict({\n",
      "    train: Dataset({\n",
      "        features: ['id', 'label', 'statement', 'subject', 'speaker', 'job_title', 'state_info', 'party_affiliation', 'barely_true_counts', 'false_counts', 'half_true_counts', 'mostly_true_counts', 'pants_on_fire_counts', 'context'],\n",
      "        num_rows: 10269\n",
      "    })\n",
      "    test: Dataset({\n",
      "        features: ['id', 'label', 'statement', 'subject', 'speaker', 'job_title', 'state_info', 'party_affiliation', 'barely_true_counts', 'false_counts', 'half_true_counts', 'mostly_true_counts', 'pants_on_fire_counts', 'context'],\n",
      "        num_rows: 1283\n",
      "    })\n",
      "    validation: Dataset({\n",
      "        features: ['id', 'label', 'statement', 'subject', 'speaker', 'job_title', 'state_info', 'party_affiliation', 'barely_true_counts', 'false_counts', 'half_true_counts', 'mostly_true_counts', 'pants_on_fire_counts', 'context'],\n",
      "        num_rows: 1284\n",
      "    })\n",
      "})\n"
     ]
    }
   ],
   "source": [
    "print(dataset)"
   ]
  },
  {
   "cell_type": "markdown",
   "id": "7dd3226e-0092-4825-a0e1-5126e3cbf6f1",
   "metadata": {},
   "source": [
    "### Check Dataset"
   ]
  },
  {
   "cell_type": "code",
   "execution_count": 6,
   "id": "7d0d2fb2-e8f6-478c-8d9e-bf00d73d155d",
   "metadata": {},
   "outputs": [
    {
     "name": "stdout",
     "output_type": "stream",
     "text": [
      "Train size: 10269\n",
      "Example row:\n",
      "{'id': '2635.json', 'label': 0, 'statement': 'Says the Annies List political group supports third-trimester abortions on demand.', 'subject': 'abortion', 'speaker': 'dwayne-bohac', 'job_title': 'State representative', 'state_info': 'Texas', 'party_affiliation': 'republican', 'barely_true_counts': 0.0, 'false_counts': 1.0, 'half_true_counts': 0.0, 'mostly_true_counts': 0.0, 'pants_on_fire_counts': 0.0, 'context': 'a mailer'}\n"
     ]
    }
   ],
   "source": [
    "# Check number of samples\n",
    "print(\"Train size:\", len(dataset[\"train\"]))\n",
    "print(\"Example row:\")\n",
    "print(dataset[\"train\"][0])"
   ]
  },
  {
   "cell_type": "markdown",
   "id": "f6af49bd-b837-4463-aff8-0efdfb03acec",
   "metadata": {},
   "source": [
    "## BLOCK 2: Preprocessing, Label Mapping, and Tokenization"
   ]
  },
  {
   "cell_type": "code",
   "execution_count": null,
   "id": "4d83448b-5e45-4af8-8efd-836eef9524cd",
   "metadata": {},
   "outputs": [],
   "source": []
  }
 ],
 "metadata": {
  "kernelspec": {
   "display_name": "Python (ai_env)",
   "language": "python",
   "name": "ai_env"
  },
  "language_info": {
   "codemirror_mode": {
    "name": "ipython",
    "version": 3
   },
   "file_extension": ".py",
   "mimetype": "text/x-python",
   "name": "python",
   "nbconvert_exporter": "python",
   "pygments_lexer": "ipython3",
   "version": "3.11.11"
  }
 },
 "nbformat": 4,
 "nbformat_minor": 5
}
