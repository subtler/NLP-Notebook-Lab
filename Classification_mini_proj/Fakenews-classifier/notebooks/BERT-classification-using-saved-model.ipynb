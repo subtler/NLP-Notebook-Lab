{
 "cells": [
  {
   "cell_type": "markdown",
   "id": "6d8b73d0-f59f-452b-9f34-09b9e4412a99",
   "metadata": {},
   "source": [
    "## Load Tokenizer and Model (e.g., BERT for classification)"
   ]
  },
  {
   "cell_type": "code",
   "execution_count": 5,
   "id": "05d81789-b016-4789-8f23-3c3f7a993ed3",
   "metadata": {},
   "outputs": [],
   "source": [
    "from transformers import AutoTokenizer, AutoModelForSequenceClassification\n",
    "from transformers import pipeline\n",
    "\n",
    "#Load tokenizer and model\n",
    "\n",
    "from transformers import AutoTokenizer, AutoModelForSequenceClassification\n",
    "\n",
    "model_path = \"../models/my_model_directory\"\n",
    "\n",
    "# Load model and tokenizer\n",
    "tokenizer = AutoTokenizer.from_pretrained(model_path)\n",
    "model = AutoModelForSequenceClassification.from_pretrained(model_path)"
   ]
  },
  {
   "cell_type": "markdown",
   "id": "976c6d24-5ae5-47e5-aa29-d29ea59cd414",
   "metadata": {},
   "source": [
    "## Prepare Input and Run Prediction"
   ]
  },
  {
   "cell_type": "code",
   "execution_count": 6,
   "id": "02d0594d-7ab0-4092-b563-a829b2a7fcdf",
   "metadata": {},
   "outputs": [
    {
     "name": "stdout",
     "output_type": "stream",
     "text": [
      "Predicted label: POSITIVE\n"
     ]
    }
   ],
   "source": [
    "text = 'The government has announced a new initiative to boost employment.'\n",
    "\n",
    "#tokenize input \n",
    "inputs = tokenizer(text, return_tensors='pt')\n",
    "\n",
    "#Forward pass\n",
    "outputs = model(**inputs)\n",
    "\n",
    "#Get predicted class\n",
    "logits = outputs.logits\n",
    "predicted_class_id = logits.argmax().item()\n",
    "\n",
    "#Get label\n",
    "labels = model.config.id2label\n",
    "print('Predicted label:', labels[predicted_class_id])"
   ]
  },
  {
   "cell_type": "code",
   "execution_count": null,
   "id": "433eced9-7e58-46ae-bd7e-701e50865720",
   "metadata": {},
   "outputs": [],
   "source": []
  }
 ],
 "metadata": {
  "kernelspec": {
   "display_name": "Python (ai_env)",
   "language": "python",
   "name": "ai_env"
  },
  "language_info": {
   "codemirror_mode": {
    "name": "ipython",
    "version": 3
   },
   "file_extension": ".py",
   "mimetype": "text/x-python",
   "name": "python",
   "nbconvert_exporter": "python",
   "pygments_lexer": "ipython3",
   "version": "3.11.11"
  }
 },
 "nbformat": 4,
 "nbformat_minor": 5
}
