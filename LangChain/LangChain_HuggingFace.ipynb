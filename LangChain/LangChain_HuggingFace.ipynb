{
 "cells": [
  {
   "cell_type": "markdown",
   "id": "95b99647-b871-4549-90fc-99195e571ed7",
   "metadata": {},
   "source": [
    "## Step 1: Load HuggingFace Model as LangChain LLM"
   ]
  },
  {
   "cell_type": "code",
   "execution_count": 14,
   "id": "98cce925-614b-452e-bf9d-b62da59fcf03",
   "metadata": {},
   "outputs": [
    {
     "name": "stderr",
     "output_type": "stream",
     "text": [
      "Device set to use mps:0\n"
     ]
    }
   ],
   "source": [
    "from langchain_core.runnables import RunnableSequence\n",
    "from langchain_core.prompts import PromptTemplate\n",
    "from langchain_huggingface import HuggingFacePipeline\n",
    "from transformers import AutoTokenizer, AutoModelForSeq2SeqLM, pipeline\n",
    "\n",
    "# Choose a lightweight, capable model\n",
    "model_name = \"google/flan-t5-base\"\n",
    "\n",
    "# Load tokenizer and model\n",
    "tokenizer = AutoTokenizer.from_pretrained(model_name)\n",
    "model = AutoModelForSeq2SeqLM.from_pretrained(model_name)\n",
    "\n",
    "# Build HF pipeline\n",
    "pipe = pipeline(\"text2text-generation\", \n",
    "                model=model,\n",
    "                tokenizer=tokenizer,\n",
    "                max_length=100,\n",
    "                temperature=0.7,  # Add randomness\n",
    "                top_p=0.95, # Nucleus sampling\n",
    "                do_sample=True # Prevent looping\n",
    ")\n",
    "\n",
    "# Wrap with LangChain\n",
    "llm = HuggingFacePipeline(pipeline=pipe)"
   ]
  },
  {
   "cell_type": "markdown",
   "id": "994761a9-3b3d-4ff7-afbb-3caf8293cd3a",
   "metadata": {},
   "source": [
    "## Step 2: Build Your First Prompt + Chain"
   ]
  },
  {
   "cell_type": "code",
   "execution_count": 15,
   "id": "4218df1b-ef88-432a-a774-a907f4931c28",
   "metadata": {},
   "outputs": [
    {
     "name": "stdout",
     "output_type": "stream",
     "text": [
      "🧠 Output:\n",
      " A. Natural Language Processing (NLP) is a kind of language processing, which involves processing a variety of speech and language patterns, like words and phrases.\n"
     ]
    }
   ],
   "source": [
    "# Prompt template\n",
    "prompt = PromptTemplate.from_template(\"Explain {topic} in simple terms for a beginner.\")\n",
    "\n",
    "\n",
    "# LangChain pipeline\n",
    "chain = prompt | llm\n",
    "\n",
    "# Run it\n",
    "response = chain.invoke({\"topic\": \"Explain Natural Language Processing (NLP) in AI, not in mathematics, using simple language.\"})\n",
    "print(\"🧠 Output:\\n\", response)"
   ]
  },
  {
   "cell_type": "markdown",
   "id": "15011bcd-fb5a-4197-a79f-8c6caedbbfad",
   "metadata": {},
   "source": [
    "You’re using: flan-t5-base\n",
    "\t•\t✅ It’s fast and free\n",
    "\t•\t❌ But it has limited reasoning and context handling\n",
    "    •\tIt can be solved either by fine-tuning or using higher intelligent models like OpenAI"
   ]
  },
  {
   "cell_type": "code",
   "execution_count": null,
   "id": "24cefa72-8484-42d1-86f7-1497ec208945",
   "metadata": {},
   "outputs": [],
   "source": []
  }
 ],
 "metadata": {
  "kernelspec": {
   "display_name": "Python 3 (ipykernel)",
   "language": "python",
   "name": "python3"
  },
  "language_info": {
   "codemirror_mode": {
    "name": "ipython",
    "version": 3
   },
   "file_extension": ".py",
   "mimetype": "text/x-python",
   "name": "python",
   "nbconvert_exporter": "python",
   "pygments_lexer": "ipython3",
   "version": "3.11.11"
  }
 },
 "nbformat": 4,
 "nbformat_minor": 5
}
