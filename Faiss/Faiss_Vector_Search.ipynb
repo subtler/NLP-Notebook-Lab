{
 "cells": [
  {
   "cell_type": "markdown",
   "id": "ebe6df6f-462d-45da-930d-547f85d90291",
   "metadata": {},
   "source": [
    "# Encode and Index Sentences in FAISS"
   ]
  },
  {
   "cell_type": "markdown",
   "id": "0f8b5641-adf4-42d0-8475-d1f922c8fe8f",
   "metadata": {},
   "source": [
    "## 1. Import Libraries and Sample Data"
   ]
  },
  {
   "cell_type": "code",
   "execution_count": 1,
   "id": "2eb7b2dd-ed9f-4dbf-b342-99feafc8aa0a",
   "metadata": {},
   "outputs": [],
   "source": [
    "from sentence_transformers import SentenceTransformer\n",
    "import faiss\n",
    "import numpy as np"
   ]
  },
  {
   "cell_type": "code",
   "execution_count": 2,
   "id": "4ea766a7-a4fe-4c66-a23d-607d97f5c5b8",
   "metadata": {},
   "outputs": [],
   "source": [
    "# Load pretrained model\n",
    "model = SentenceTransformer('all-MiniLM-L6-v2')  # Fast and accurate\n",
    "\n",
    "# Sample sentences (these could be resumes, FAQs, JD lines, etc.)\n",
    "sentences = [\n",
    "    \"Looking for a backend engineer with Python experience.\",\n",
    "    \"Proficient in data analysis using SQL and Python.\",\n",
    "    \"Seeking an expert in AWS cloud deployment.\",\n",
    "    \"Experience with Docker and CI/CD pipelines is required.\",\n",
    "    \"Strong knowledge of machine learning and deep learning.\",\n",
    "]"
   ]
  },
  {
   "cell_type": "markdown",
   "id": "d85f9802-9bef-40fa-85ee-8df8cd4c6040",
   "metadata": {},
   "source": [
    "## 2. Generate Sentence Embeddings"
   ]
  },
  {
   "cell_type": "code",
   "execution_count": 3,
   "id": "2dd90aed-4504-43d5-8f91-4488e2e44145",
   "metadata": {},
   "outputs": [],
   "source": [
    "# Generate embeddings for each sentence (768-dim vectors)\n",
    "embeddings = model.encode(sentences)\n",
    "\n",
    "# Convert to NumPy float32 (required by FAISS)\n",
    "embeddings = np.array(embeddings).astype('float32')"
   ]
  },
  {
   "cell_type": "code",
   "execution_count": 5,
   "id": "c2b41e63-bcf5-4268-aa5f-8289ac34d131",
   "metadata": {},
   "outputs": [
    {
     "data": {
      "text/plain": [
       "array([[-0.07723466, -0.03381972, -0.00117026, ...,  0.0772387 ,\n",
       "         0.07817636,  0.02331655],\n",
       "       [-0.01174889, -0.00998492, -0.01694515, ...,  0.05859416,\n",
       "         0.08929224,  0.011912  ],\n",
       "       [ 0.04048735, -0.00954833, -0.00259527, ..., -0.00608465,\n",
       "        -0.01668681,  0.04723663],\n",
       "       [-0.00978079,  0.03192974,  0.02150432, ..., -0.00645307,\n",
       "         0.06357714,  0.01552729],\n",
       "       [-0.09907927, -0.03590719,  0.0935325 , ...,  0.00611919,\n",
       "        -0.02670863,  0.01894625]], dtype=float32)"
      ]
     },
     "execution_count": 5,
     "metadata": {},
     "output_type": "execute_result"
    }
   ],
   "source": [
    "embeddings"
   ]
  },
  {
   "cell_type": "markdown",
   "id": "9331a4b5-331f-44d7-bdd9-153089c6d87e",
   "metadata": {},
   "source": [
    "## 3. Create FAISS Index and Add Vectors"
   ]
  },
  {
   "cell_type": "code",
   "execution_count": 4,
   "id": "2c1b16c4-9499-4ff1-a3b4-e8ca35311eeb",
   "metadata": {},
   "outputs": [
    {
     "name": "stdout",
     "output_type": "stream",
     "text": [
      "Total vectors indexed: 5\n"
     ]
    }
   ],
   "source": [
    "# Choose index type — Flat = brute-force but accurate\n",
    "index = faiss.IndexFlatL2(embeddings.shape[1]) # 768-dim\n",
    "#shape[1] represents, FAISS needs to know the dimensionality of each vector so it can store and compare them correctly.\n",
    "\n",
    "# Add sentence embeddings to index\n",
    "index.add(embeddings)\n",
    "\n",
    "# Print number of vectors in the index\n",
    "print('Total vectors indexed:',index.ntotal)"
   ]
  },
  {
   "cell_type": "markdown",
   "id": "b461f864-bbef-4248-a4ff-7e0f9b884bd8",
   "metadata": {},
   "source": [
    "What is index?\n",
    "\t•\tindex is your FAISS vector search engine\n",
    "\t•\tIt’s a flat L2 index → it compares every new query against all stored vectors using L2 (Euclidean) distance"
   ]
  },
  {
   "cell_type": "markdown",
   "id": "9d3a650f-7842-4417-b9e8-731435ef05bb",
   "metadata": {},
   "source": [
    "Own semantic search engine backend has been created "
   ]
  },
  {
   "cell_type": "markdown",
   "id": "37211524-f9de-42fe-9547-88b4d675d1fc",
   "metadata": {},
   "source": [
    "# Query Your FAISS Index"
   ]
  },
  {
   "cell_type": "markdown",
   "id": "cf19d2f0-375f-47d7-80eb-4f2f9a64140b",
   "metadata": {},
   "source": [
    "We’ll take a new sentence (a query), convert it to an embedding, and find the most similar vector(s) in your indexed dataset."
   ]
  },
  {
   "cell_type": "markdown",
   "id": "bd1b8939-2b8b-4a40-a42b-87c5d6957a92",
   "metadata": {},
   "source": [
    "## 1. Define and Encode a Query Sentence"
   ]
  },
  {
   "cell_type": "code",
   "execution_count": 8,
   "id": "7096a74e-e57a-4f77-a75b-b5267e03f657",
   "metadata": {},
   "outputs": [],
   "source": [
    "# New query sentence (can be anything job-related, etc.)\n",
    "query = 'skilled in ml and dl'\n",
    "\n",
    "# Convert to embedding\n",
    "query_embedding = model.encode([query]).astype('float32') "
   ]
  },
  {
   "cell_type": "markdown",
   "id": "ca5bdd7a-d94d-4e16-b616-82dcbde63e16",
   "metadata": {},
   "source": [
    "## 2. Perform the Search"
   ]
  },
  {
   "cell_type": "code",
   "execution_count": 9,
   "id": "fa3ba4c0-fdfd-49ed-a70c-4c6042de3fc3",
   "metadata": {},
   "outputs": [
    {
     "name": "stdout",
     "output_type": "stream",
     "text": [
      "\n",
      "🔍 Query: skilled in ml and dl\n",
      "1. Match: Strong knowledge of machine learning and deep learning.  (Distance: 1.1124)\n",
      "2. Match: Proficient in data analysis using SQL and Python.  (Distance: 1.2626)\n"
     ]
    }
   ],
   "source": [
    "# k = number of top results to return\n",
    "k =2\n",
    "distances, indices = index.search(query_embedding, k)\n",
    "\n",
    "#show the top results \n",
    "print(\"\\n🔍 Query:\", query)\n",
    "for i, idx in enumerate(indices[0]):\n",
    "    print(f\"{i+1}. Match: {sentences[idx]}  (Distance: {distances[0][i]:.4f})\")"
   ]
  },
  {
   "cell_type": "markdown",
   "id": "cd3fb149-509e-46b3-a299-a86a3ec1e9fb",
   "metadata": {},
   "source": [
    "🧠 What’s Happening?\n",
    "\t•\tFAISS computes L2 distances between the query vector and all indexed vectors.\n",
    "\t•\tReturns the k most similar sentences (lower distance = better match)."
   ]
  },
  {
   "cell_type": "markdown",
   "id": "c14cb9df-921c-4082-a3d1-65442673532b",
   "metadata": {},
   "source": [
    "Example:\n",
    "{\n",
    "indices = [[2, 4]],\n",
    "distances = [[0.19, 0.47]] \n",
    "}\n",
    "•\tBest match = sentence at index 2 (distance 0.19)\n",
    "•\tSecond best = sentence at index 4 (distance 0.47)"
   ]
  },
  {
   "cell_type": "markdown",
   "id": "e7eb6832-d12c-42ba-a4d0-83fb20716d9e",
   "metadata": {},
   "source": [
    "# Dynamic Query Search with User Input"
   ]
  },
  {
   "cell_type": "code",
   "execution_count": 11,
   "id": "4687b16a-c19e-47c1-925c-027160cb10f7",
   "metadata": {},
   "outputs": [
    {
     "name": "stdin",
     "output_type": "stream",
     "text": [
      "🔍 Enter your search query:  could u give me people skilled in python scripting\n"
     ]
    },
    {
     "name": "stdout",
     "output_type": "stream",
     "text": [
      "\n",
      "🔍 Top 2 results for your query: \"could u give me people skilled in python scripting\"\n",
      "\n",
      "1. Match: Looking for a backend engineer with Python experience.  (Distance: 0.8381)\n",
      "2. Match: Proficient in data analysis using SQL and Python.  (Distance: 0.9466)\n"
     ]
    }
   ],
   "source": [
    "# Take input from user\n",
    "user_query = input(\"🔍 Enter your search query: \")\n",
    "\n",
    "# Encode the input into vector\n",
    "query_vector = model.encode([user_query]).astype(\"float32\")\n",
    "\n",
    "# Search in FAISS index\n",
    "k = 2  # Number of top results\n",
    "distances, indices = index.search(query_vector, k)\n",
    "\n",
    "# Display results\n",
    "print(f\"\\n🔍 Top {k} results for your query: \\\"{user_query}\\\"\\n\")\n",
    "for i, idx in enumerate(indices[0]):\n",
    "    print(f\"{i+1}. Match: {sentences[idx]}  (Distance: {distances[0][i]:.4f})\")"
   ]
  },
  {
   "cell_type": "code",
   "execution_count": null,
   "id": "1f173060-ab40-4d56-8a8b-cbe8bb2537b6",
   "metadata": {},
   "outputs": [],
   "source": []
  }
 ],
 "metadata": {
  "kernelspec": {
   "display_name": "Python 3 (ipykernel)",
   "language": "python",
   "name": "python3"
  },
  "language_info": {
   "codemirror_mode": {
    "name": "ipython",
    "version": 3
   },
   "file_extension": ".py",
   "mimetype": "text/x-python",
   "name": "python",
   "nbconvert_exporter": "python",
   "pygments_lexer": "ipython3",
   "version": "3.11.11"
  }
 },
 "nbformat": 4,
 "nbformat_minor": 5
}
